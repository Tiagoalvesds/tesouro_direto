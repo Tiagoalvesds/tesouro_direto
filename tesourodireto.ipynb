{
  "cells": [
    {
      "cell_type": "markdown",
      "metadata": {
        "id": "view-in-github",
        "colab_type": "text"
      },
      "source": [
        "<a href=\"https://colab.research.google.com/github/Tiagoalvesds/tesouro_direto/blob/main/tesourodireto.ipynb\" target=\"_parent\"><img src=\"https://colab.research.google.com/assets/colab-badge.svg\" alt=\"Open In Colab\"/></a>"
      ]
    },
    {
      "cell_type": "markdown",
      "metadata": {
        "id": "EGQtJBzRGgXa"
      },
      "source": [
        "# Bibliotecas"
      ]
    },
    {
      "cell_type": "code",
      "execution_count": 2,
      "metadata": {
        "colab": {
          "base_uri": "https://localhost:8080/"
        },
        "id": "N0C2U6cmGVsv",
        "outputId": "e145b88b-fe10-45f3-df85-a232d8f91f43"
      },
      "outputs": [
        {
          "output_type": "stream",
          "name": "stdout",
          "text": [
            "Requirement already satisfied: pandas in /usr/local/lib/python3.10/dist-packages (1.5.3)\n",
            "Requirement already satisfied: python-dateutil>=2.8.1 in /usr/local/lib/python3.10/dist-packages (from pandas) (2.8.2)\n",
            "Requirement already satisfied: pytz>=2020.1 in /usr/local/lib/python3.10/dist-packages (from pandas) (2023.3.post1)\n",
            "Requirement already satisfied: numpy>=1.21.0 in /usr/local/lib/python3.10/dist-packages (from pandas) (1.23.5)\n",
            "Requirement already satisfied: six>=1.5 in /usr/local/lib/python3.10/dist-packages (from python-dateutil>=2.8.1->pandas) (1.16.0)\n",
            "Requirement already satisfied: numpy in /usr/local/lib/python3.10/dist-packages (1.23.5)\n",
            "Requirement already satisfied: seaborn in /usr/local/lib/python3.10/dist-packages (0.12.2)\n",
            "Requirement already satisfied: numpy!=1.24.0,>=1.17 in /usr/local/lib/python3.10/dist-packages (from seaborn) (1.23.5)\n",
            "Requirement already satisfied: pandas>=0.25 in /usr/local/lib/python3.10/dist-packages (from seaborn) (1.5.3)\n",
            "Requirement already satisfied: matplotlib!=3.6.1,>=3.1 in /usr/local/lib/python3.10/dist-packages (from seaborn) (3.7.1)\n",
            "Requirement already satisfied: contourpy>=1.0.1 in /usr/local/lib/python3.10/dist-packages (from matplotlib!=3.6.1,>=3.1->seaborn) (1.1.1)\n",
            "Requirement already satisfied: cycler>=0.10 in /usr/local/lib/python3.10/dist-packages (from matplotlib!=3.6.1,>=3.1->seaborn) (0.12.1)\n",
            "Requirement already satisfied: fonttools>=4.22.0 in /usr/local/lib/python3.10/dist-packages (from matplotlib!=3.6.1,>=3.1->seaborn) (4.43.1)\n",
            "Requirement already satisfied: kiwisolver>=1.0.1 in /usr/local/lib/python3.10/dist-packages (from matplotlib!=3.6.1,>=3.1->seaborn) (1.4.5)\n",
            "Requirement already satisfied: packaging>=20.0 in /usr/local/lib/python3.10/dist-packages (from matplotlib!=3.6.1,>=3.1->seaborn) (23.2)\n",
            "Requirement already satisfied: pillow>=6.2.0 in /usr/local/lib/python3.10/dist-packages (from matplotlib!=3.6.1,>=3.1->seaborn) (9.4.0)\n",
            "Requirement already satisfied: pyparsing>=2.3.1 in /usr/local/lib/python3.10/dist-packages (from matplotlib!=3.6.1,>=3.1->seaborn) (3.1.1)\n",
            "Requirement already satisfied: python-dateutil>=2.7 in /usr/local/lib/python3.10/dist-packages (from matplotlib!=3.6.1,>=3.1->seaborn) (2.8.2)\n",
            "Requirement already satisfied: pytz>=2020.1 in /usr/local/lib/python3.10/dist-packages (from pandas>=0.25->seaborn) (2023.3.post1)\n",
            "Requirement already satisfied: six>=1.5 in /usr/local/lib/python3.10/dist-packages (from python-dateutil>=2.7->matplotlib!=3.6.1,>=3.1->seaborn) (1.16.0)\n",
            "Requirement already satisfied: matplotlib in /usr/local/lib/python3.10/dist-packages (3.7.1)\n",
            "Requirement already satisfied: contourpy>=1.0.1 in /usr/local/lib/python3.10/dist-packages (from matplotlib) (1.1.1)\n",
            "Requirement already satisfied: cycler>=0.10 in /usr/local/lib/python3.10/dist-packages (from matplotlib) (0.12.1)\n",
            "Requirement already satisfied: fonttools>=4.22.0 in /usr/local/lib/python3.10/dist-packages (from matplotlib) (4.43.1)\n",
            "Requirement already satisfied: kiwisolver>=1.0.1 in /usr/local/lib/python3.10/dist-packages (from matplotlib) (1.4.5)\n",
            "Requirement already satisfied: numpy>=1.20 in /usr/local/lib/python3.10/dist-packages (from matplotlib) (1.23.5)\n",
            "Requirement already satisfied: packaging>=20.0 in /usr/local/lib/python3.10/dist-packages (from matplotlib) (23.2)\n",
            "Requirement already satisfied: pillow>=6.2.0 in /usr/local/lib/python3.10/dist-packages (from matplotlib) (9.4.0)\n",
            "Requirement already satisfied: pyparsing>=2.3.1 in /usr/local/lib/python3.10/dist-packages (from matplotlib) (3.1.1)\n",
            "Requirement already satisfied: python-dateutil>=2.7 in /usr/local/lib/python3.10/dist-packages (from matplotlib) (2.8.2)\n",
            "Requirement already satisfied: six>=1.5 in /usr/local/lib/python3.10/dist-packages (from python-dateutil>=2.7->matplotlib) (1.16.0)\n"
          ]
        }
      ],
      "source": [
        "%pip install pandas\n",
        "%pip install numpy\n",
        "import pandas as pd\n",
        "import numpy as np\n",
        "%pip install seaborn\n",
        "import seaborn as sb\n",
        "%pip install matplotlib\n",
        "import matplotlib.pyplot as plot\n"
      ]
    },
    {
      "cell_type": "markdown",
      "metadata": {
        "id": "WEjH4QsZG2vU"
      },
      "source": [
        "# API -Tesouro Transparente"
      ]
    },
    {
      "cell_type": "code",
      "execution_count": 3,
      "metadata": {
        "id": "gKnq7ATTGrsk"
      },
      "outputs": [],
      "source": [
        "url = 'https://www.tesourotransparente.gov.br/ckan/dataset/df56aa42-484a-4a59-8184-7676580c81e3/resource/796d2059-14e9-44e3-80c9-2d9e30b405c1/download/PrecoTaxaTesouroDireto.csv'"
      ]
    },
    {
      "cell_type": "markdown",
      "metadata": {
        "id": "2gUPzzHPHCn2"
      },
      "source": [
        "# Organizando o Dataframe"
      ]
    },
    {
      "cell_type": "code",
      "execution_count": 4,
      "metadata": {
        "id": "oqkHVEBmGrvU",
        "colab": {
          "base_uri": "https://localhost:8080/",
          "height": 206
        },
        "outputId": "cc83a87f-7e30-40fc-c676-874fa8bbf8da"
      },
      "outputs": [
        {
          "output_type": "execute_result",
          "data": {
            "text/plain": [
              "                          Tipo Titulo Data Vencimento   Data Base  \\\n",
              "0                   Tesouro Prefixado      01/07/2010  02/01/2009   \n",
              "1                   Tesouro Prefixado      01/01/2011  02/01/2009   \n",
              "2                   Tesouro Prefixado      01/01/2010  02/01/2009   \n",
              "3  Tesouro IPCA+ com Juros Semestrais      15/05/2045  02/01/2009   \n",
              "4  Tesouro IPCA+ com Juros Semestrais      15/05/2035  02/01/2009   \n",
              "\n",
              "  Taxa Compra Manha Taxa Venda Manha PU Compra Manha PU Venda Manha  \\\n",
              "0             12,20            12,24          843,72         843,28   \n",
              "1             12,29            12,34          794,54         793,84   \n",
              "2             12,21            12,25          892,40         892,09   \n",
              "3              7,39             7,49         1503,08        1484,46   \n",
              "4              7,42             7,52         1523,47        1506,03   \n",
              "\n",
              "  PU Base Manha  \n",
              "0        842,89  \n",
              "1        793,47  \n",
              "2        891,68  \n",
              "3       1483,55  \n",
              "4       1505,11  "
            ],
            "text/html": [
              "\n",
              "  <div id=\"df-0c67b1ca-ebc4-40db-807d-1bcec286ab39\" class=\"colab-df-container\">\n",
              "    <div>\n",
              "<style scoped>\n",
              "    .dataframe tbody tr th:only-of-type {\n",
              "        vertical-align: middle;\n",
              "    }\n",
              "\n",
              "    .dataframe tbody tr th {\n",
              "        vertical-align: top;\n",
              "    }\n",
              "\n",
              "    .dataframe thead th {\n",
              "        text-align: right;\n",
              "    }\n",
              "</style>\n",
              "<table border=\"1\" class=\"dataframe\">\n",
              "  <thead>\n",
              "    <tr style=\"text-align: right;\">\n",
              "      <th></th>\n",
              "      <th>Tipo Titulo</th>\n",
              "      <th>Data Vencimento</th>\n",
              "      <th>Data Base</th>\n",
              "      <th>Taxa Compra Manha</th>\n",
              "      <th>Taxa Venda Manha</th>\n",
              "      <th>PU Compra Manha</th>\n",
              "      <th>PU Venda Manha</th>\n",
              "      <th>PU Base Manha</th>\n",
              "    </tr>\n",
              "  </thead>\n",
              "  <tbody>\n",
              "    <tr>\n",
              "      <th>0</th>\n",
              "      <td>Tesouro Prefixado</td>\n",
              "      <td>01/07/2010</td>\n",
              "      <td>02/01/2009</td>\n",
              "      <td>12,20</td>\n",
              "      <td>12,24</td>\n",
              "      <td>843,72</td>\n",
              "      <td>843,28</td>\n",
              "      <td>842,89</td>\n",
              "    </tr>\n",
              "    <tr>\n",
              "      <th>1</th>\n",
              "      <td>Tesouro Prefixado</td>\n",
              "      <td>01/01/2011</td>\n",
              "      <td>02/01/2009</td>\n",
              "      <td>12,29</td>\n",
              "      <td>12,34</td>\n",
              "      <td>794,54</td>\n",
              "      <td>793,84</td>\n",
              "      <td>793,47</td>\n",
              "    </tr>\n",
              "    <tr>\n",
              "      <th>2</th>\n",
              "      <td>Tesouro Prefixado</td>\n",
              "      <td>01/01/2010</td>\n",
              "      <td>02/01/2009</td>\n",
              "      <td>12,21</td>\n",
              "      <td>12,25</td>\n",
              "      <td>892,40</td>\n",
              "      <td>892,09</td>\n",
              "      <td>891,68</td>\n",
              "    </tr>\n",
              "    <tr>\n",
              "      <th>3</th>\n",
              "      <td>Tesouro IPCA+ com Juros Semestrais</td>\n",
              "      <td>15/05/2045</td>\n",
              "      <td>02/01/2009</td>\n",
              "      <td>7,39</td>\n",
              "      <td>7,49</td>\n",
              "      <td>1503,08</td>\n",
              "      <td>1484,46</td>\n",
              "      <td>1483,55</td>\n",
              "    </tr>\n",
              "    <tr>\n",
              "      <th>4</th>\n",
              "      <td>Tesouro IPCA+ com Juros Semestrais</td>\n",
              "      <td>15/05/2035</td>\n",
              "      <td>02/01/2009</td>\n",
              "      <td>7,42</td>\n",
              "      <td>7,52</td>\n",
              "      <td>1523,47</td>\n",
              "      <td>1506,03</td>\n",
              "      <td>1505,11</td>\n",
              "    </tr>\n",
              "  </tbody>\n",
              "</table>\n",
              "</div>\n",
              "    <div class=\"colab-df-buttons\">\n",
              "\n",
              "  <div class=\"colab-df-container\">\n",
              "    <button class=\"colab-df-convert\" onclick=\"convertToInteractive('df-0c67b1ca-ebc4-40db-807d-1bcec286ab39')\"\n",
              "            title=\"Convert this dataframe to an interactive table.\"\n",
              "            style=\"display:none;\">\n",
              "\n",
              "  <svg xmlns=\"http://www.w3.org/2000/svg\" height=\"24px\" viewBox=\"0 -960 960 960\">\n",
              "    <path d=\"M120-120v-720h720v720H120Zm60-500h600v-160H180v160Zm220 220h160v-160H400v160Zm0 220h160v-160H400v160ZM180-400h160v-160H180v160Zm440 0h160v-160H620v160ZM180-180h160v-160H180v160Zm440 0h160v-160H620v160Z\"/>\n",
              "  </svg>\n",
              "    </button>\n",
              "\n",
              "  <style>\n",
              "    .colab-df-container {\n",
              "      display:flex;\n",
              "      gap: 12px;\n",
              "    }\n",
              "\n",
              "    .colab-df-convert {\n",
              "      background-color: #E8F0FE;\n",
              "      border: none;\n",
              "      border-radius: 50%;\n",
              "      cursor: pointer;\n",
              "      display: none;\n",
              "      fill: #1967D2;\n",
              "      height: 32px;\n",
              "      padding: 0 0 0 0;\n",
              "      width: 32px;\n",
              "    }\n",
              "\n",
              "    .colab-df-convert:hover {\n",
              "      background-color: #E2EBFA;\n",
              "      box-shadow: 0px 1px 2px rgba(60, 64, 67, 0.3), 0px 1px 3px 1px rgba(60, 64, 67, 0.15);\n",
              "      fill: #174EA6;\n",
              "    }\n",
              "\n",
              "    .colab-df-buttons div {\n",
              "      margin-bottom: 4px;\n",
              "    }\n",
              "\n",
              "    [theme=dark] .colab-df-convert {\n",
              "      background-color: #3B4455;\n",
              "      fill: #D2E3FC;\n",
              "    }\n",
              "\n",
              "    [theme=dark] .colab-df-convert:hover {\n",
              "      background-color: #434B5C;\n",
              "      box-shadow: 0px 1px 3px 1px rgba(0, 0, 0, 0.15);\n",
              "      filter: drop-shadow(0px 1px 2px rgba(0, 0, 0, 0.3));\n",
              "      fill: #FFFFFF;\n",
              "    }\n",
              "  </style>\n",
              "\n",
              "    <script>\n",
              "      const buttonEl =\n",
              "        document.querySelector('#df-0c67b1ca-ebc4-40db-807d-1bcec286ab39 button.colab-df-convert');\n",
              "      buttonEl.style.display =\n",
              "        google.colab.kernel.accessAllowed ? 'block' : 'none';\n",
              "\n",
              "      async function convertToInteractive(key) {\n",
              "        const element = document.querySelector('#df-0c67b1ca-ebc4-40db-807d-1bcec286ab39');\n",
              "        const dataTable =\n",
              "          await google.colab.kernel.invokeFunction('convertToInteractive',\n",
              "                                                    [key], {});\n",
              "        if (!dataTable) return;\n",
              "\n",
              "        const docLinkHtml = 'Like what you see? Visit the ' +\n",
              "          '<a target=\"_blank\" href=https://colab.research.google.com/notebooks/data_table.ipynb>data table notebook</a>'\n",
              "          + ' to learn more about interactive tables.';\n",
              "        element.innerHTML = '';\n",
              "        dataTable['output_type'] = 'display_data';\n",
              "        await google.colab.output.renderOutput(dataTable, element);\n",
              "        const docLink = document.createElement('div');\n",
              "        docLink.innerHTML = docLinkHtml;\n",
              "        element.appendChild(docLink);\n",
              "      }\n",
              "    </script>\n",
              "  </div>\n",
              "\n",
              "\n",
              "<div id=\"df-4989f9fb-fad7-49bc-9e5f-f10882fd13f8\">\n",
              "  <button class=\"colab-df-quickchart\" onclick=\"quickchart('df-4989f9fb-fad7-49bc-9e5f-f10882fd13f8')\"\n",
              "            title=\"Suggest charts.\"\n",
              "            style=\"display:none;\">\n",
              "\n",
              "<svg xmlns=\"http://www.w3.org/2000/svg\" height=\"24px\"viewBox=\"0 0 24 24\"\n",
              "     width=\"24px\">\n",
              "    <g>\n",
              "        <path d=\"M19 3H5c-1.1 0-2 .9-2 2v14c0 1.1.9 2 2 2h14c1.1 0 2-.9 2-2V5c0-1.1-.9-2-2-2zM9 17H7v-7h2v7zm4 0h-2V7h2v10zm4 0h-2v-4h2v4z\"/>\n",
              "    </g>\n",
              "</svg>\n",
              "  </button>\n",
              "\n",
              "<style>\n",
              "  .colab-df-quickchart {\n",
              "      --bg-color: #E8F0FE;\n",
              "      --fill-color: #1967D2;\n",
              "      --hover-bg-color: #E2EBFA;\n",
              "      --hover-fill-color: #174EA6;\n",
              "      --disabled-fill-color: #AAA;\n",
              "      --disabled-bg-color: #DDD;\n",
              "  }\n",
              "\n",
              "  [theme=dark] .colab-df-quickchart {\n",
              "      --bg-color: #3B4455;\n",
              "      --fill-color: #D2E3FC;\n",
              "      --hover-bg-color: #434B5C;\n",
              "      --hover-fill-color: #FFFFFF;\n",
              "      --disabled-bg-color: #3B4455;\n",
              "      --disabled-fill-color: #666;\n",
              "  }\n",
              "\n",
              "  .colab-df-quickchart {\n",
              "    background-color: var(--bg-color);\n",
              "    border: none;\n",
              "    border-radius: 50%;\n",
              "    cursor: pointer;\n",
              "    display: none;\n",
              "    fill: var(--fill-color);\n",
              "    height: 32px;\n",
              "    padding: 0;\n",
              "    width: 32px;\n",
              "  }\n",
              "\n",
              "  .colab-df-quickchart:hover {\n",
              "    background-color: var(--hover-bg-color);\n",
              "    box-shadow: 0 1px 2px rgba(60, 64, 67, 0.3), 0 1px 3px 1px rgba(60, 64, 67, 0.15);\n",
              "    fill: var(--button-hover-fill-color);\n",
              "  }\n",
              "\n",
              "  .colab-df-quickchart-complete:disabled,\n",
              "  .colab-df-quickchart-complete:disabled:hover {\n",
              "    background-color: var(--disabled-bg-color);\n",
              "    fill: var(--disabled-fill-color);\n",
              "    box-shadow: none;\n",
              "  }\n",
              "\n",
              "  .colab-df-spinner {\n",
              "    border: 2px solid var(--fill-color);\n",
              "    border-color: transparent;\n",
              "    border-bottom-color: var(--fill-color);\n",
              "    animation:\n",
              "      spin 1s steps(1) infinite;\n",
              "  }\n",
              "\n",
              "  @keyframes spin {\n",
              "    0% {\n",
              "      border-color: transparent;\n",
              "      border-bottom-color: var(--fill-color);\n",
              "      border-left-color: var(--fill-color);\n",
              "    }\n",
              "    20% {\n",
              "      border-color: transparent;\n",
              "      border-left-color: var(--fill-color);\n",
              "      border-top-color: var(--fill-color);\n",
              "    }\n",
              "    30% {\n",
              "      border-color: transparent;\n",
              "      border-left-color: var(--fill-color);\n",
              "      border-top-color: var(--fill-color);\n",
              "      border-right-color: var(--fill-color);\n",
              "    }\n",
              "    40% {\n",
              "      border-color: transparent;\n",
              "      border-right-color: var(--fill-color);\n",
              "      border-top-color: var(--fill-color);\n",
              "    }\n",
              "    60% {\n",
              "      border-color: transparent;\n",
              "      border-right-color: var(--fill-color);\n",
              "    }\n",
              "    80% {\n",
              "      border-color: transparent;\n",
              "      border-right-color: var(--fill-color);\n",
              "      border-bottom-color: var(--fill-color);\n",
              "    }\n",
              "    90% {\n",
              "      border-color: transparent;\n",
              "      border-bottom-color: var(--fill-color);\n",
              "    }\n",
              "  }\n",
              "</style>\n",
              "\n",
              "  <script>\n",
              "    async function quickchart(key) {\n",
              "      const quickchartButtonEl =\n",
              "        document.querySelector('#' + key + ' button');\n",
              "      quickchartButtonEl.disabled = true;  // To prevent multiple clicks.\n",
              "      quickchartButtonEl.classList.add('colab-df-spinner');\n",
              "      try {\n",
              "        const charts = await google.colab.kernel.invokeFunction(\n",
              "            'suggestCharts', [key], {});\n",
              "      } catch (error) {\n",
              "        console.error('Error during call to suggestCharts:', error);\n",
              "      }\n",
              "      quickchartButtonEl.classList.remove('colab-df-spinner');\n",
              "      quickchartButtonEl.classList.add('colab-df-quickchart-complete');\n",
              "    }\n",
              "    (() => {\n",
              "      let quickchartButtonEl =\n",
              "        document.querySelector('#df-4989f9fb-fad7-49bc-9e5f-f10882fd13f8 button');\n",
              "      quickchartButtonEl.style.display =\n",
              "        google.colab.kernel.accessAllowed ? 'block' : 'none';\n",
              "    })();\n",
              "  </script>\n",
              "</div>\n",
              "    </div>\n",
              "  </div>\n"
            ]
          },
          "metadata": {},
          "execution_count": 4
        }
      ],
      "source": [
        "df = pd.read_csv(url, sep =';')\n",
        "df.head()"
      ]
    },
    {
      "cell_type": "markdown",
      "source": [
        "# Funções de Busca"
      ],
      "metadata": {
        "id": "woPmMVt8Kkla"
      }
    },
    {
      "cell_type": "code",
      "source": [
        "def busca_titulos_tesouro_direto():\n",
        "  df  = pd.read_csv(url, sep=';', decimal=',')\n",
        "  df['Data Vencimento'] = pd.to_datetime(df['Data Vencimento'], dayfirst=True)\n",
        "  df['Data Base']       = pd.to_datetime(df['Data Base'], dayfirst=True)\n",
        "\n",
        "  multi_indice = pd.MultiIndex.from_frame(df.iloc[:, :3])\n",
        "  df = df.set_index(multi_indice).iloc[: , 3:]\n",
        "  return df"
      ],
      "metadata": {
        "id": "muUHtIHDKq9L"
      },
      "execution_count": 5,
      "outputs": []
    },
    {
      "cell_type": "code",
      "source": [
        "titulos = busca_titulos_tesouro_direto()\n",
        "titulos"
      ],
      "metadata": {
        "colab": {
          "base_uri": "https://localhost:8080/",
          "height": 455
        },
        "id": "xinGB-voN5pP",
        "outputId": "7c6f7596-0c63-4ed1-fd80-391132545b29"
      },
      "execution_count": 6,
      "outputs": [
        {
          "output_type": "execute_result",
          "data": {
            "text/plain": [
              "                                                               Taxa Compra Manha  \\\n",
              "Tipo Titulo                        Data Vencimento Data Base                       \n",
              "Tesouro Prefixado                  2010-07-01      2009-01-02              12.20   \n",
              "                                   2011-01-01      2009-01-02              12.29   \n",
              "                                   2010-01-01      2009-01-02              12.21   \n",
              "Tesouro IPCA+ com Juros Semestrais 2045-05-15      2009-01-02               7.39   \n",
              "                                   2035-05-15      2009-01-02               7.42   \n",
              "...                                                                          ...   \n",
              "                                   2020-08-15      2009-05-12               7.13   \n",
              "                                   2009-05-15      2009-05-12               3.59   \n",
              "                                   2010-08-15      2009-05-12               5.42   \n",
              "                                   2011-05-15      2009-05-12               6.13   \n",
              "                                   2012-08-15      2009-05-12               6.71   \n",
              "\n",
              "                                                               Taxa Venda Manha  \\\n",
              "Tipo Titulo                        Data Vencimento Data Base                      \n",
              "Tesouro Prefixado                  2010-07-01      2009-01-02             12.24   \n",
              "                                   2011-01-01      2009-01-02             12.34   \n",
              "                                   2010-01-01      2009-01-02             12.25   \n",
              "Tesouro IPCA+ com Juros Semestrais 2045-05-15      2009-01-02              7.49   \n",
              "                                   2035-05-15      2009-01-02              7.52   \n",
              "...                                                                         ...   \n",
              "                                   2020-08-15      2009-05-12              7.21   \n",
              "                                   2009-05-15      2009-05-12              3.61   \n",
              "                                   2010-08-15      2009-05-12              5.44   \n",
              "                                   2011-05-15      2009-05-12              6.17   \n",
              "                                   2012-08-15      2009-05-12              6.75   \n",
              "\n",
              "                                                               PU Compra Manha  \\\n",
              "Tipo Titulo                        Data Vencimento Data Base                     \n",
              "Tesouro Prefixado                  2010-07-01      2009-01-02           843.72   \n",
              "                                   2011-01-01      2009-01-02           794.54   \n",
              "                                   2010-01-01      2009-01-02           892.40   \n",
              "Tesouro IPCA+ com Juros Semestrais 2045-05-15      2009-01-02          1503.08   \n",
              "                                   2035-05-15      2009-01-02          1523.47   \n",
              "...                                                                        ...   \n",
              "                                   2020-08-15      2009-05-12          1696.20   \n",
              "                                   2009-05-15      2009-05-12          1875.24   \n",
              "                                   2010-08-15      2009-05-12          1860.11   \n",
              "                                   2011-05-15      2009-05-12          1871.40   \n",
              "                                   2012-08-15      2009-05-12          1811.47   \n",
              "\n",
              "                                                               PU Venda Manha  \\\n",
              "Tipo Titulo                        Data Vencimento Data Base                    \n",
              "Tesouro Prefixado                  2010-07-01      2009-01-02          843.28   \n",
              "                                   2011-01-01      2009-01-02          793.84   \n",
              "                                   2010-01-01      2009-01-02          892.09   \n",
              "Tesouro IPCA+ com Juros Semestrais 2045-05-15      2009-01-02         1484.46   \n",
              "                                   2035-05-15      2009-01-02         1506.03   \n",
              "...                                                                       ...   \n",
              "                                   2020-08-15      2009-05-12         1686.00   \n",
              "                                   2009-05-15      2009-05-12         1875.23   \n",
              "                                   2010-08-15      2009-05-12         1859.68   \n",
              "                                   2011-05-15      2009-05-12         1870.09   \n",
              "                                   2012-08-15      2009-05-12         1809.46   \n",
              "\n",
              "                                                               PU Base Manha  \n",
              "Tipo Titulo                        Data Vencimento Data Base                  \n",
              "Tesouro Prefixado                  2010-07-01      2009-01-02         842.89  \n",
              "                                   2011-01-01      2009-01-02         793.47  \n",
              "                                   2010-01-01      2009-01-02         891.68  \n",
              "Tesouro IPCA+ com Juros Semestrais 2045-05-15      2009-01-02        1483.55  \n",
              "                                   2035-05-15      2009-01-02        1505.11  \n",
              "...                                                                      ...  \n",
              "                                   2020-08-15      2009-05-12        1685.26  \n",
              "                                   2009-05-15      2009-05-12        1874.67  \n",
              "                                   2010-08-15      2009-05-12        1858.99  \n",
              "                                   2011-05-15      2009-05-12        1869.35  \n",
              "                                   2012-08-15      2009-05-12        1808.70  \n",
              "\n",
              "[134915 rows x 5 columns]"
            ],
            "text/html": [
              "\n",
              "  <div id=\"df-fe4e3572-b441-43bb-9499-37fa609ef1f5\" class=\"colab-df-container\">\n",
              "    <div>\n",
              "<style scoped>\n",
              "    .dataframe tbody tr th:only-of-type {\n",
              "        vertical-align: middle;\n",
              "    }\n",
              "\n",
              "    .dataframe tbody tr th {\n",
              "        vertical-align: top;\n",
              "    }\n",
              "\n",
              "    .dataframe thead th {\n",
              "        text-align: right;\n",
              "    }\n",
              "</style>\n",
              "<table border=\"1\" class=\"dataframe\">\n",
              "  <thead>\n",
              "    <tr style=\"text-align: right;\">\n",
              "      <th></th>\n",
              "      <th></th>\n",
              "      <th></th>\n",
              "      <th>Taxa Compra Manha</th>\n",
              "      <th>Taxa Venda Manha</th>\n",
              "      <th>PU Compra Manha</th>\n",
              "      <th>PU Venda Manha</th>\n",
              "      <th>PU Base Manha</th>\n",
              "    </tr>\n",
              "    <tr>\n",
              "      <th>Tipo Titulo</th>\n",
              "      <th>Data Vencimento</th>\n",
              "      <th>Data Base</th>\n",
              "      <th></th>\n",
              "      <th></th>\n",
              "      <th></th>\n",
              "      <th></th>\n",
              "      <th></th>\n",
              "    </tr>\n",
              "  </thead>\n",
              "  <tbody>\n",
              "    <tr>\n",
              "      <th rowspan=\"3\" valign=\"top\">Tesouro Prefixado</th>\n",
              "      <th>2010-07-01</th>\n",
              "      <th>2009-01-02</th>\n",
              "      <td>12.20</td>\n",
              "      <td>12.24</td>\n",
              "      <td>843.72</td>\n",
              "      <td>843.28</td>\n",
              "      <td>842.89</td>\n",
              "    </tr>\n",
              "    <tr>\n",
              "      <th>2011-01-01</th>\n",
              "      <th>2009-01-02</th>\n",
              "      <td>12.29</td>\n",
              "      <td>12.34</td>\n",
              "      <td>794.54</td>\n",
              "      <td>793.84</td>\n",
              "      <td>793.47</td>\n",
              "    </tr>\n",
              "    <tr>\n",
              "      <th>2010-01-01</th>\n",
              "      <th>2009-01-02</th>\n",
              "      <td>12.21</td>\n",
              "      <td>12.25</td>\n",
              "      <td>892.40</td>\n",
              "      <td>892.09</td>\n",
              "      <td>891.68</td>\n",
              "    </tr>\n",
              "    <tr>\n",
              "      <th rowspan=\"8\" valign=\"top\">Tesouro IPCA+ com Juros Semestrais</th>\n",
              "      <th>2045-05-15</th>\n",
              "      <th>2009-01-02</th>\n",
              "      <td>7.39</td>\n",
              "      <td>7.49</td>\n",
              "      <td>1503.08</td>\n",
              "      <td>1484.46</td>\n",
              "      <td>1483.55</td>\n",
              "    </tr>\n",
              "    <tr>\n",
              "      <th>2035-05-15</th>\n",
              "      <th>2009-01-02</th>\n",
              "      <td>7.42</td>\n",
              "      <td>7.52</td>\n",
              "      <td>1523.47</td>\n",
              "      <td>1506.03</td>\n",
              "      <td>1505.11</td>\n",
              "    </tr>\n",
              "    <tr>\n",
              "      <th>...</th>\n",
              "      <th>...</th>\n",
              "      <td>...</td>\n",
              "      <td>...</td>\n",
              "      <td>...</td>\n",
              "      <td>...</td>\n",
              "      <td>...</td>\n",
              "    </tr>\n",
              "    <tr>\n",
              "      <th>2020-08-15</th>\n",
              "      <th>2009-05-12</th>\n",
              "      <td>7.13</td>\n",
              "      <td>7.21</td>\n",
              "      <td>1696.20</td>\n",
              "      <td>1686.00</td>\n",
              "      <td>1685.26</td>\n",
              "    </tr>\n",
              "    <tr>\n",
              "      <th>2009-05-15</th>\n",
              "      <th>2009-05-12</th>\n",
              "      <td>3.59</td>\n",
              "      <td>3.61</td>\n",
              "      <td>1875.24</td>\n",
              "      <td>1875.23</td>\n",
              "      <td>1874.67</td>\n",
              "    </tr>\n",
              "    <tr>\n",
              "      <th>2010-08-15</th>\n",
              "      <th>2009-05-12</th>\n",
              "      <td>5.42</td>\n",
              "      <td>5.44</td>\n",
              "      <td>1860.11</td>\n",
              "      <td>1859.68</td>\n",
              "      <td>1858.99</td>\n",
              "    </tr>\n",
              "    <tr>\n",
              "      <th>2011-05-15</th>\n",
              "      <th>2009-05-12</th>\n",
              "      <td>6.13</td>\n",
              "      <td>6.17</td>\n",
              "      <td>1871.40</td>\n",
              "      <td>1870.09</td>\n",
              "      <td>1869.35</td>\n",
              "    </tr>\n",
              "    <tr>\n",
              "      <th>2012-08-15</th>\n",
              "      <th>2009-05-12</th>\n",
              "      <td>6.71</td>\n",
              "      <td>6.75</td>\n",
              "      <td>1811.47</td>\n",
              "      <td>1809.46</td>\n",
              "      <td>1808.70</td>\n",
              "    </tr>\n",
              "  </tbody>\n",
              "</table>\n",
              "<p>134915 rows × 5 columns</p>\n",
              "</div>\n",
              "    <div class=\"colab-df-buttons\">\n",
              "\n",
              "  <div class=\"colab-df-container\">\n",
              "    <button class=\"colab-df-convert\" onclick=\"convertToInteractive('df-fe4e3572-b441-43bb-9499-37fa609ef1f5')\"\n",
              "            title=\"Convert this dataframe to an interactive table.\"\n",
              "            style=\"display:none;\">\n",
              "\n",
              "  <svg xmlns=\"http://www.w3.org/2000/svg\" height=\"24px\" viewBox=\"0 -960 960 960\">\n",
              "    <path d=\"M120-120v-720h720v720H120Zm60-500h600v-160H180v160Zm220 220h160v-160H400v160Zm0 220h160v-160H400v160ZM180-400h160v-160H180v160Zm440 0h160v-160H620v160ZM180-180h160v-160H180v160Zm440 0h160v-160H620v160Z\"/>\n",
              "  </svg>\n",
              "    </button>\n",
              "\n",
              "  <style>\n",
              "    .colab-df-container {\n",
              "      display:flex;\n",
              "      gap: 12px;\n",
              "    }\n",
              "\n",
              "    .colab-df-convert {\n",
              "      background-color: #E8F0FE;\n",
              "      border: none;\n",
              "      border-radius: 50%;\n",
              "      cursor: pointer;\n",
              "      display: none;\n",
              "      fill: #1967D2;\n",
              "      height: 32px;\n",
              "      padding: 0 0 0 0;\n",
              "      width: 32px;\n",
              "    }\n",
              "\n",
              "    .colab-df-convert:hover {\n",
              "      background-color: #E2EBFA;\n",
              "      box-shadow: 0px 1px 2px rgba(60, 64, 67, 0.3), 0px 1px 3px 1px rgba(60, 64, 67, 0.15);\n",
              "      fill: #174EA6;\n",
              "    }\n",
              "\n",
              "    .colab-df-buttons div {\n",
              "      margin-bottom: 4px;\n",
              "    }\n",
              "\n",
              "    [theme=dark] .colab-df-convert {\n",
              "      background-color: #3B4455;\n",
              "      fill: #D2E3FC;\n",
              "    }\n",
              "\n",
              "    [theme=dark] .colab-df-convert:hover {\n",
              "      background-color: #434B5C;\n",
              "      box-shadow: 0px 1px 3px 1px rgba(0, 0, 0, 0.15);\n",
              "      filter: drop-shadow(0px 1px 2px rgba(0, 0, 0, 0.3));\n",
              "      fill: #FFFFFF;\n",
              "    }\n",
              "  </style>\n",
              "\n",
              "    <script>\n",
              "      const buttonEl =\n",
              "        document.querySelector('#df-fe4e3572-b441-43bb-9499-37fa609ef1f5 button.colab-df-convert');\n",
              "      buttonEl.style.display =\n",
              "        google.colab.kernel.accessAllowed ? 'block' : 'none';\n",
              "\n",
              "      async function convertToInteractive(key) {\n",
              "        const element = document.querySelector('#df-fe4e3572-b441-43bb-9499-37fa609ef1f5');\n",
              "        const dataTable =\n",
              "          await google.colab.kernel.invokeFunction('convertToInteractive',\n",
              "                                                    [key], {});\n",
              "        if (!dataTable) return;\n",
              "\n",
              "        const docLinkHtml = 'Like what you see? Visit the ' +\n",
              "          '<a target=\"_blank\" href=https://colab.research.google.com/notebooks/data_table.ipynb>data table notebook</a>'\n",
              "          + ' to learn more about interactive tables.';\n",
              "        element.innerHTML = '';\n",
              "        dataTable['output_type'] = 'display_data';\n",
              "        await google.colab.output.renderOutput(dataTable, element);\n",
              "        const docLink = document.createElement('div');\n",
              "        docLink.innerHTML = docLinkHtml;\n",
              "        element.appendChild(docLink);\n",
              "      }\n",
              "    </script>\n",
              "  </div>\n",
              "\n",
              "\n",
              "<div id=\"df-7da90e11-fa4b-4a8d-a779-ba8fe67bb406\">\n",
              "  <button class=\"colab-df-quickchart\" onclick=\"quickchart('df-7da90e11-fa4b-4a8d-a779-ba8fe67bb406')\"\n",
              "            title=\"Suggest charts.\"\n",
              "            style=\"display:none;\">\n",
              "\n",
              "<svg xmlns=\"http://www.w3.org/2000/svg\" height=\"24px\"viewBox=\"0 0 24 24\"\n",
              "     width=\"24px\">\n",
              "    <g>\n",
              "        <path d=\"M19 3H5c-1.1 0-2 .9-2 2v14c0 1.1.9 2 2 2h14c1.1 0 2-.9 2-2V5c0-1.1-.9-2-2-2zM9 17H7v-7h2v7zm4 0h-2V7h2v10zm4 0h-2v-4h2v4z\"/>\n",
              "    </g>\n",
              "</svg>\n",
              "  </button>\n",
              "\n",
              "<style>\n",
              "  .colab-df-quickchart {\n",
              "      --bg-color: #E8F0FE;\n",
              "      --fill-color: #1967D2;\n",
              "      --hover-bg-color: #E2EBFA;\n",
              "      --hover-fill-color: #174EA6;\n",
              "      --disabled-fill-color: #AAA;\n",
              "      --disabled-bg-color: #DDD;\n",
              "  }\n",
              "\n",
              "  [theme=dark] .colab-df-quickchart {\n",
              "      --bg-color: #3B4455;\n",
              "      --fill-color: #D2E3FC;\n",
              "      --hover-bg-color: #434B5C;\n",
              "      --hover-fill-color: #FFFFFF;\n",
              "      --disabled-bg-color: #3B4455;\n",
              "      --disabled-fill-color: #666;\n",
              "  }\n",
              "\n",
              "  .colab-df-quickchart {\n",
              "    background-color: var(--bg-color);\n",
              "    border: none;\n",
              "    border-radius: 50%;\n",
              "    cursor: pointer;\n",
              "    display: none;\n",
              "    fill: var(--fill-color);\n",
              "    height: 32px;\n",
              "    padding: 0;\n",
              "    width: 32px;\n",
              "  }\n",
              "\n",
              "  .colab-df-quickchart:hover {\n",
              "    background-color: var(--hover-bg-color);\n",
              "    box-shadow: 0 1px 2px rgba(60, 64, 67, 0.3), 0 1px 3px 1px rgba(60, 64, 67, 0.15);\n",
              "    fill: var(--button-hover-fill-color);\n",
              "  }\n",
              "\n",
              "  .colab-df-quickchart-complete:disabled,\n",
              "  .colab-df-quickchart-complete:disabled:hover {\n",
              "    background-color: var(--disabled-bg-color);\n",
              "    fill: var(--disabled-fill-color);\n",
              "    box-shadow: none;\n",
              "  }\n",
              "\n",
              "  .colab-df-spinner {\n",
              "    border: 2px solid var(--fill-color);\n",
              "    border-color: transparent;\n",
              "    border-bottom-color: var(--fill-color);\n",
              "    animation:\n",
              "      spin 1s steps(1) infinite;\n",
              "  }\n",
              "\n",
              "  @keyframes spin {\n",
              "    0% {\n",
              "      border-color: transparent;\n",
              "      border-bottom-color: var(--fill-color);\n",
              "      border-left-color: var(--fill-color);\n",
              "    }\n",
              "    20% {\n",
              "      border-color: transparent;\n",
              "      border-left-color: var(--fill-color);\n",
              "      border-top-color: var(--fill-color);\n",
              "    }\n",
              "    30% {\n",
              "      border-color: transparent;\n",
              "      border-left-color: var(--fill-color);\n",
              "      border-top-color: var(--fill-color);\n",
              "      border-right-color: var(--fill-color);\n",
              "    }\n",
              "    40% {\n",
              "      border-color: transparent;\n",
              "      border-right-color: var(--fill-color);\n",
              "      border-top-color: var(--fill-color);\n",
              "    }\n",
              "    60% {\n",
              "      border-color: transparent;\n",
              "      border-right-color: var(--fill-color);\n",
              "    }\n",
              "    80% {\n",
              "      border-color: transparent;\n",
              "      border-right-color: var(--fill-color);\n",
              "      border-bottom-color: var(--fill-color);\n",
              "    }\n",
              "    90% {\n",
              "      border-color: transparent;\n",
              "      border-bottom-color: var(--fill-color);\n",
              "    }\n",
              "  }\n",
              "</style>\n",
              "\n",
              "  <script>\n",
              "    async function quickchart(key) {\n",
              "      const quickchartButtonEl =\n",
              "        document.querySelector('#' + key + ' button');\n",
              "      quickchartButtonEl.disabled = true;  // To prevent multiple clicks.\n",
              "      quickchartButtonEl.classList.add('colab-df-spinner');\n",
              "      try {\n",
              "        const charts = await google.colab.kernel.invokeFunction(\n",
              "            'suggestCharts', [key], {});\n",
              "      } catch (error) {\n",
              "        console.error('Error during call to suggestCharts:', error);\n",
              "      }\n",
              "      quickchartButtonEl.classList.remove('colab-df-spinner');\n",
              "      quickchartButtonEl.classList.add('colab-df-quickchart-complete');\n",
              "    }\n",
              "    (() => {\n",
              "      let quickchartButtonEl =\n",
              "        document.querySelector('#df-7da90e11-fa4b-4a8d-a779-ba8fe67bb406 button');\n",
              "      quickchartButtonEl.style.display =\n",
              "        google.colab.kernel.accessAllowed ? 'block' : 'none';\n",
              "    })();\n",
              "  </script>\n",
              "</div>\n",
              "    </div>\n",
              "  </div>\n"
            ]
          },
          "metadata": {},
          "execution_count": 6
        }
      ]
    },
    {
      "cell_type": "markdown",
      "metadata": {
        "id": "oZ5MZYpGHowp"
      },
      "source": [
        "# Análise Exploratória do Dataframe"
      ]
    },
    {
      "cell_type": "code",
      "execution_count": 7,
      "metadata": {
        "id": "FrJ-RKHqGr0f",
        "colab": {
          "base_uri": "https://localhost:8080/"
        },
        "outputId": "77ae63b1-3af1-47e4-8bfb-0a6a1fb41edf"
      },
      "outputs": [
        {
          "output_type": "execute_result",
          "data": {
            "text/plain": [
              "(134915, 8)"
            ]
          },
          "metadata": {},
          "execution_count": 7
        }
      ],
      "source": [
        "#Tamanho do corpo(linhas e colunas)\n",
        "df.shape"
      ]
    },
    {
      "cell_type": "code",
      "execution_count": 8,
      "metadata": {
        "id": "aSL5uJw3Gr3P",
        "colab": {
          "base_uri": "https://localhost:8080/"
        },
        "outputId": "f39b26e9-4df8-4399-ceb7-28c5ea627629"
      },
      "outputs": [
        {
          "output_type": "execute_result",
          "data": {
            "text/plain": [
              "Tipo Titulo          0\n",
              "Data Vencimento      0\n",
              "Data Base            0\n",
              "Taxa Compra Manha    0\n",
              "Taxa Venda Manha     0\n",
              "PU Compra Manha      0\n",
              "PU Venda Manha       0\n",
              "PU Base Manha        0\n",
              "dtype: int64"
            ]
          },
          "metadata": {},
          "execution_count": 8
        }
      ],
      "source": [
        "#Verificando valores faltantes\n",
        "df.isnull().sum()"
      ]
    },
    {
      "cell_type": "code",
      "execution_count": 9,
      "metadata": {
        "id": "8YMN5bpQGr5X",
        "colab": {
          "base_uri": "https://localhost:8080/"
        },
        "outputId": "05834be2-c3e8-4872-8a8b-4cde9096bace"
      },
      "outputs": [
        {
          "output_type": "execute_result",
          "data": {
            "text/plain": [
              "array(['Tesouro Prefixado', 'Tesouro IPCA+ com Juros Semestrais',\n",
              "       'Tesouro IPCA+', 'Tesouro IGPM+ com Juros Semestrais',\n",
              "       'Tesouro Prefixado com Juros Semestrais', 'Tesouro Selic',\n",
              "       'Tesouro Renda+ Aposentadoria Extra', 'Tesouro Educa+'],\n",
              "      dtype=object)"
            ]
          },
          "metadata": {},
          "execution_count": 9
        }
      ],
      "source": [
        "# 1° Verificando Títulos únicos\n",
        "titulo = df['Tipo Titulo'].unique()\n",
        "titulo"
      ]
    },
    {
      "cell_type": "code",
      "execution_count": 10,
      "metadata": {
        "id": "rf-CRoRoGr7z",
        "colab": {
          "base_uri": "https://localhost:8080/"
        },
        "outputId": "31ee6215-2a08-48ac-dc46-424fc5fee09d"
      },
      "outputs": [
        {
          "output_type": "execute_result",
          "data": {
            "text/plain": [
              "array(['02/01/2009', '31/12/2008', '30/12/2008', ..., '16/07/2009',\n",
              "       '14/05/2009', '13/05/2009'], dtype=object)"
            ]
          },
          "metadata": {},
          "execution_count": 10
        }
      ],
      "source": [
        "# 2° Verificando Data base únicos\n",
        "data_base = df['Data Base'].unique()\n",
        "data_base"
      ]
    },
    {
      "cell_type": "code",
      "execution_count": 11,
      "metadata": {
        "id": "JK6F-xx2GsAe",
        "colab": {
          "base_uri": "https://localhost:8080/"
        },
        "outputId": "835882a6-a674-47f9-e089-9e45081817d3"
      },
      "outputs": [
        {
          "output_type": "execute_result",
          "data": {
            "text/plain": [
              "array(['01/07/2010', '01/01/2011', '01/01/2010', '15/05/2045',\n",
              "       '15/05/2035', '15/08/2024', '15/05/2017', '15/05/2015',\n",
              "       '15/05/2013', '15/08/2012', '15/05/2011', '15/08/2010',\n",
              "       '15/05/2009', '01/01/2031', '01/03/2011', '01/07/2017',\n",
              "       '01/04/2021', '01/01/2013', '01/01/2014', '01/01/2017',\n",
              "       '01/01/2012', '07/03/2012', '16/03/2011', '17/03/2010',\n",
              "       '18/03/2009', '07/03/2014', '07/03/2013', '01/04/2009',\n",
              "       '01/07/2009', '01/10/2009', '01/01/2009', '01/01/2008',\n",
              "       '18/01/2006', '17/01/2007', '18/06/2008', '01/07/2007',\n",
              "       '01/01/2007', '01/04/2007', '01/10/2006', '01/07/2006',\n",
              "       '01/04/2006', '01/01/2006', '15/08/2008', '15/05/2007',\n",
              "       '15/08/2006', '01/12/2005', '01/04/2008', '01/12/2006',\n",
              "       '01/07/2008', '01/10/2008', '01/10/2007', '01/07/2005',\n",
              "       '16/02/2005', '01/04/2005', '01/10/2005', '04/01/2005',\n",
              "       '08/03/2013', '15/08/2026', '15/05/2029', '01/01/2027',\n",
              "       '01/01/2029', '01/01/2033', '01/01/2025', '15/12/2074',\n",
              "       '15/12/2059', '15/12/2049', '15/12/2084', '15/12/2069',\n",
              "       '15/12/2054', '15/12/2064', '15/12/2079', '01/03/2029',\n",
              "       '01/03/2026', '01/03/2025', '01/09/2024', '01/03/2027',\n",
              "       '01/07/2024', '01/01/2026', '15/08/2050', '15/08/2040',\n",
              "       '15/08/2032', '15/05/2055', '15/08/2030', '15/12/2040',\n",
              "       '15/12/2042', '15/12/2045', '15/12/2031', '15/12/2037',\n",
              "       '15/12/2032', '15/12/2036', '15/12/2043', '15/12/2030',\n",
              "       '15/12/2044', '15/12/2034', '15/12/2038', '15/12/2041',\n",
              "       '15/12/2035', '15/12/2039', '15/12/2033', '01/01/2023',\n",
              "       '01/03/2023', '01/01/2022', '01/03/2021', '01/01/2021',\n",
              "       '15/08/2020', '01/01/2020', '15/05/2019', '01/01/2019',\n",
              "       '01/01/2018', '07/03/2017', '01/01/2016', '07/03/2015',\n",
              "       '01/01/2015', '01/07/2011'], dtype=object)"
            ]
          },
          "metadata": {},
          "execution_count": 11
        }
      ],
      "source": [
        "# 3° Verificando Vencimentos únicos\n",
        "data_vencimento=df['Data Vencimento'].unique()\n",
        "data_vencimento"
      ]
    },
    {
      "cell_type": "markdown",
      "source": [
        "# Seleção de Título"
      ],
      "metadata": {
        "id": "8F71tGiHbkfd"
      }
    },
    {
      "cell_type": "code",
      "source": [
        "# 4º Selecionando ativo e vencimento\n",
        "\n",
        "select_tesouro = titulos.loc [('Tesouro Prefixado', '01-01-2026')]\n",
        "select_tesouro.head()"
      ],
      "metadata": {
        "colab": {
          "base_uri": "https://localhost:8080/",
          "height": 272
        },
        "id": "Qi9-m6GuU37R",
        "outputId": "b94dd032-7d21-42a6-9d60-2b5482a1b884"
      },
      "execution_count": 12,
      "outputs": [
        {
          "output_type": "stream",
          "name": "stderr",
          "text": [
            "<ipython-input-12-083e9f40cec8>:3: PerformanceWarning: indexing past lexsort depth may impact performance.\n",
            "  select_tesouro = titulos.loc [('Tesouro Prefixado', '01-01-2026')]\n"
          ]
        },
        {
          "output_type": "execute_result",
          "data": {
            "text/plain": [
              "            Taxa Compra Manha  Taxa Venda Manha  PU Compra Manha  \\\n",
              "Data Base                                                          \n",
              "2023-07-07              10.22             10.34           784.96   \n",
              "2023-07-06              10.26             10.38           783.95   \n",
              "2023-05-19              11.29             11.41           755.34   \n",
              "2023-05-18              11.31             11.43           754.66   \n",
              "2023-09-25              10.29             10.41           800.66   \n",
              "\n",
              "            PU Venda Manha  PU Base Manha  \n",
              "Data Base                                  \n",
              "2023-07-07          782.54         782.54  \n",
              "2023-07-06          781.52         781.52  \n",
              "2023-05-19          752.88         752.88  \n",
              "2023-05-18          752.21         752.21  \n",
              "2023-09-25          798.37         798.37  "
            ],
            "text/html": [
              "\n",
              "  <div id=\"df-6a7c92cd-802f-41ed-9166-671dbd866976\" class=\"colab-df-container\">\n",
              "    <div>\n",
              "<style scoped>\n",
              "    .dataframe tbody tr th:only-of-type {\n",
              "        vertical-align: middle;\n",
              "    }\n",
              "\n",
              "    .dataframe tbody tr th {\n",
              "        vertical-align: top;\n",
              "    }\n",
              "\n",
              "    .dataframe thead th {\n",
              "        text-align: right;\n",
              "    }\n",
              "</style>\n",
              "<table border=\"1\" class=\"dataframe\">\n",
              "  <thead>\n",
              "    <tr style=\"text-align: right;\">\n",
              "      <th></th>\n",
              "      <th>Taxa Compra Manha</th>\n",
              "      <th>Taxa Venda Manha</th>\n",
              "      <th>PU Compra Manha</th>\n",
              "      <th>PU Venda Manha</th>\n",
              "      <th>PU Base Manha</th>\n",
              "    </tr>\n",
              "    <tr>\n",
              "      <th>Data Base</th>\n",
              "      <th></th>\n",
              "      <th></th>\n",
              "      <th></th>\n",
              "      <th></th>\n",
              "      <th></th>\n",
              "    </tr>\n",
              "  </thead>\n",
              "  <tbody>\n",
              "    <tr>\n",
              "      <th>2023-07-07</th>\n",
              "      <td>10.22</td>\n",
              "      <td>10.34</td>\n",
              "      <td>784.96</td>\n",
              "      <td>782.54</td>\n",
              "      <td>782.54</td>\n",
              "    </tr>\n",
              "    <tr>\n",
              "      <th>2023-07-06</th>\n",
              "      <td>10.26</td>\n",
              "      <td>10.38</td>\n",
              "      <td>783.95</td>\n",
              "      <td>781.52</td>\n",
              "      <td>781.52</td>\n",
              "    </tr>\n",
              "    <tr>\n",
              "      <th>2023-05-19</th>\n",
              "      <td>11.29</td>\n",
              "      <td>11.41</td>\n",
              "      <td>755.34</td>\n",
              "      <td>752.88</td>\n",
              "      <td>752.88</td>\n",
              "    </tr>\n",
              "    <tr>\n",
              "      <th>2023-05-18</th>\n",
              "      <td>11.31</td>\n",
              "      <td>11.43</td>\n",
              "      <td>754.66</td>\n",
              "      <td>752.21</td>\n",
              "      <td>752.21</td>\n",
              "    </tr>\n",
              "    <tr>\n",
              "      <th>2023-09-25</th>\n",
              "      <td>10.29</td>\n",
              "      <td>10.41</td>\n",
              "      <td>800.66</td>\n",
              "      <td>798.37</td>\n",
              "      <td>798.37</td>\n",
              "    </tr>\n",
              "  </tbody>\n",
              "</table>\n",
              "</div>\n",
              "    <div class=\"colab-df-buttons\">\n",
              "\n",
              "  <div class=\"colab-df-container\">\n",
              "    <button class=\"colab-df-convert\" onclick=\"convertToInteractive('df-6a7c92cd-802f-41ed-9166-671dbd866976')\"\n",
              "            title=\"Convert this dataframe to an interactive table.\"\n",
              "            style=\"display:none;\">\n",
              "\n",
              "  <svg xmlns=\"http://www.w3.org/2000/svg\" height=\"24px\" viewBox=\"0 -960 960 960\">\n",
              "    <path d=\"M120-120v-720h720v720H120Zm60-500h600v-160H180v160Zm220 220h160v-160H400v160Zm0 220h160v-160H400v160ZM180-400h160v-160H180v160Zm440 0h160v-160H620v160ZM180-180h160v-160H180v160Zm440 0h160v-160H620v160Z\"/>\n",
              "  </svg>\n",
              "    </button>\n",
              "\n",
              "  <style>\n",
              "    .colab-df-container {\n",
              "      display:flex;\n",
              "      gap: 12px;\n",
              "    }\n",
              "\n",
              "    .colab-df-convert {\n",
              "      background-color: #E8F0FE;\n",
              "      border: none;\n",
              "      border-radius: 50%;\n",
              "      cursor: pointer;\n",
              "      display: none;\n",
              "      fill: #1967D2;\n",
              "      height: 32px;\n",
              "      padding: 0 0 0 0;\n",
              "      width: 32px;\n",
              "    }\n",
              "\n",
              "    .colab-df-convert:hover {\n",
              "      background-color: #E2EBFA;\n",
              "      box-shadow: 0px 1px 2px rgba(60, 64, 67, 0.3), 0px 1px 3px 1px rgba(60, 64, 67, 0.15);\n",
              "      fill: #174EA6;\n",
              "    }\n",
              "\n",
              "    .colab-df-buttons div {\n",
              "      margin-bottom: 4px;\n",
              "    }\n",
              "\n",
              "    [theme=dark] .colab-df-convert {\n",
              "      background-color: #3B4455;\n",
              "      fill: #D2E3FC;\n",
              "    }\n",
              "\n",
              "    [theme=dark] .colab-df-convert:hover {\n",
              "      background-color: #434B5C;\n",
              "      box-shadow: 0px 1px 3px 1px rgba(0, 0, 0, 0.15);\n",
              "      filter: drop-shadow(0px 1px 2px rgba(0, 0, 0, 0.3));\n",
              "      fill: #FFFFFF;\n",
              "    }\n",
              "  </style>\n",
              "\n",
              "    <script>\n",
              "      const buttonEl =\n",
              "        document.querySelector('#df-6a7c92cd-802f-41ed-9166-671dbd866976 button.colab-df-convert');\n",
              "      buttonEl.style.display =\n",
              "        google.colab.kernel.accessAllowed ? 'block' : 'none';\n",
              "\n",
              "      async function convertToInteractive(key) {\n",
              "        const element = document.querySelector('#df-6a7c92cd-802f-41ed-9166-671dbd866976');\n",
              "        const dataTable =\n",
              "          await google.colab.kernel.invokeFunction('convertToInteractive',\n",
              "                                                    [key], {});\n",
              "        if (!dataTable) return;\n",
              "\n",
              "        const docLinkHtml = 'Like what you see? Visit the ' +\n",
              "          '<a target=\"_blank\" href=https://colab.research.google.com/notebooks/data_table.ipynb>data table notebook</a>'\n",
              "          + ' to learn more about interactive tables.';\n",
              "        element.innerHTML = '';\n",
              "        dataTable['output_type'] = 'display_data';\n",
              "        await google.colab.output.renderOutput(dataTable, element);\n",
              "        const docLink = document.createElement('div');\n",
              "        docLink.innerHTML = docLinkHtml;\n",
              "        element.appendChild(docLink);\n",
              "      }\n",
              "    </script>\n",
              "  </div>\n",
              "\n",
              "\n",
              "<div id=\"df-dd11c019-35d3-47e8-8b7f-bddb07b7d4cf\">\n",
              "  <button class=\"colab-df-quickchart\" onclick=\"quickchart('df-dd11c019-35d3-47e8-8b7f-bddb07b7d4cf')\"\n",
              "            title=\"Suggest charts.\"\n",
              "            style=\"display:none;\">\n",
              "\n",
              "<svg xmlns=\"http://www.w3.org/2000/svg\" height=\"24px\"viewBox=\"0 0 24 24\"\n",
              "     width=\"24px\">\n",
              "    <g>\n",
              "        <path d=\"M19 3H5c-1.1 0-2 .9-2 2v14c0 1.1.9 2 2 2h14c1.1 0 2-.9 2-2V5c0-1.1-.9-2-2-2zM9 17H7v-7h2v7zm4 0h-2V7h2v10zm4 0h-2v-4h2v4z\"/>\n",
              "    </g>\n",
              "</svg>\n",
              "  </button>\n",
              "\n",
              "<style>\n",
              "  .colab-df-quickchart {\n",
              "      --bg-color: #E8F0FE;\n",
              "      --fill-color: #1967D2;\n",
              "      --hover-bg-color: #E2EBFA;\n",
              "      --hover-fill-color: #174EA6;\n",
              "      --disabled-fill-color: #AAA;\n",
              "      --disabled-bg-color: #DDD;\n",
              "  }\n",
              "\n",
              "  [theme=dark] .colab-df-quickchart {\n",
              "      --bg-color: #3B4455;\n",
              "      --fill-color: #D2E3FC;\n",
              "      --hover-bg-color: #434B5C;\n",
              "      --hover-fill-color: #FFFFFF;\n",
              "      --disabled-bg-color: #3B4455;\n",
              "      --disabled-fill-color: #666;\n",
              "  }\n",
              "\n",
              "  .colab-df-quickchart {\n",
              "    background-color: var(--bg-color);\n",
              "    border: none;\n",
              "    border-radius: 50%;\n",
              "    cursor: pointer;\n",
              "    display: none;\n",
              "    fill: var(--fill-color);\n",
              "    height: 32px;\n",
              "    padding: 0;\n",
              "    width: 32px;\n",
              "  }\n",
              "\n",
              "  .colab-df-quickchart:hover {\n",
              "    background-color: var(--hover-bg-color);\n",
              "    box-shadow: 0 1px 2px rgba(60, 64, 67, 0.3), 0 1px 3px 1px rgba(60, 64, 67, 0.15);\n",
              "    fill: var(--button-hover-fill-color);\n",
              "  }\n",
              "\n",
              "  .colab-df-quickchart-complete:disabled,\n",
              "  .colab-df-quickchart-complete:disabled:hover {\n",
              "    background-color: var(--disabled-bg-color);\n",
              "    fill: var(--disabled-fill-color);\n",
              "    box-shadow: none;\n",
              "  }\n",
              "\n",
              "  .colab-df-spinner {\n",
              "    border: 2px solid var(--fill-color);\n",
              "    border-color: transparent;\n",
              "    border-bottom-color: var(--fill-color);\n",
              "    animation:\n",
              "      spin 1s steps(1) infinite;\n",
              "  }\n",
              "\n",
              "  @keyframes spin {\n",
              "    0% {\n",
              "      border-color: transparent;\n",
              "      border-bottom-color: var(--fill-color);\n",
              "      border-left-color: var(--fill-color);\n",
              "    }\n",
              "    20% {\n",
              "      border-color: transparent;\n",
              "      border-left-color: var(--fill-color);\n",
              "      border-top-color: var(--fill-color);\n",
              "    }\n",
              "    30% {\n",
              "      border-color: transparent;\n",
              "      border-left-color: var(--fill-color);\n",
              "      border-top-color: var(--fill-color);\n",
              "      border-right-color: var(--fill-color);\n",
              "    }\n",
              "    40% {\n",
              "      border-color: transparent;\n",
              "      border-right-color: var(--fill-color);\n",
              "      border-top-color: var(--fill-color);\n",
              "    }\n",
              "    60% {\n",
              "      border-color: transparent;\n",
              "      border-right-color: var(--fill-color);\n",
              "    }\n",
              "    80% {\n",
              "      border-color: transparent;\n",
              "      border-right-color: var(--fill-color);\n",
              "      border-bottom-color: var(--fill-color);\n",
              "    }\n",
              "    90% {\n",
              "      border-color: transparent;\n",
              "      border-bottom-color: var(--fill-color);\n",
              "    }\n",
              "  }\n",
              "</style>\n",
              "\n",
              "  <script>\n",
              "    async function quickchart(key) {\n",
              "      const quickchartButtonEl =\n",
              "        document.querySelector('#' + key + ' button');\n",
              "      quickchartButtonEl.disabled = true;  // To prevent multiple clicks.\n",
              "      quickchartButtonEl.classList.add('colab-df-spinner');\n",
              "      try {\n",
              "        const charts = await google.colab.kernel.invokeFunction(\n",
              "            'suggestCharts', [key], {});\n",
              "      } catch (error) {\n",
              "        console.error('Error during call to suggestCharts:', error);\n",
              "      }\n",
              "      quickchartButtonEl.classList.remove('colab-df-spinner');\n",
              "      quickchartButtonEl.classList.add('colab-df-quickchart-complete');\n",
              "    }\n",
              "    (() => {\n",
              "      let quickchartButtonEl =\n",
              "        document.querySelector('#df-dd11c019-35d3-47e8-8b7f-bddb07b7d4cf button');\n",
              "      quickchartButtonEl.style.display =\n",
              "        google.colab.kernel.accessAllowed ? 'block' : 'none';\n",
              "    })();\n",
              "  </script>\n",
              "</div>\n",
              "    </div>\n",
              "  </div>\n"
            ]
          },
          "metadata": {},
          "execution_count": 12
        }
      ]
    },
    {
      "cell_type": "code",
      "source": [
        "#Selecionando taxas\n",
        "tx_compra = select_tesouro.loc[:,'Taxa Compra Manha']\n",
        "tx_compra"
      ],
      "metadata": {
        "colab": {
          "base_uri": "https://localhost:8080/"
        },
        "id": "9ox9ZzhfYtun",
        "outputId": "87b1e9ef-934e-4054-fa84-93dd3c8daa8b"
      },
      "execution_count": 13,
      "outputs": [
        {
          "output_type": "execute_result",
          "data": {
            "text/plain": [
              "Data Base\n",
              "2023-07-07    10.22\n",
              "2023-07-06    10.26\n",
              "2023-05-19    11.29\n",
              "2023-05-18    11.31\n",
              "2023-09-25    10.29\n",
              "              ...  \n",
              "2020-02-14     6.23\n",
              "2020-02-13     6.28\n",
              "2020-02-12     6.22\n",
              "2020-02-11     6.26\n",
              "2020-02-10     6.36\n",
              "Name: Taxa Compra Manha, Length: 917, dtype: float64"
            ]
          },
          "metadata": {},
          "execution_count": 13
        }
      ]
    },
    {
      "cell_type": "markdown",
      "source": [
        "# Gráfico"
      ],
      "metadata": {
        "id": "N9Cd9MEBbp9u"
      }
    },
    {
      "cell_type": "code",
      "source": [
        "select_tesouro ['Taxa Compra Manha'].plot()"
      ],
      "metadata": {
        "colab": {
          "base_uri": "https://localhost:8080/",
          "height": 450
        },
        "id": "1iVfKl3-U344",
        "outputId": "c1e086a3-2097-4efd-e765-8466539e18c2"
      },
      "execution_count": 14,
      "outputs": [
        {
          "output_type": "execute_result",
          "data": {
            "text/plain": [
              "<Axes: xlabel='Data Base'>"
            ]
          },
          "metadata": {},
          "execution_count": 14
        },
        {
          "output_type": "display_data",
          "data": {
            "text/plain": [
              "<Figure size 640x480 with 1 Axes>"
            ],
            "image/png": "[encoded data removed]"
          },
          "metadata": {}
        }
      ]
    },
    {
      "cell_type": "markdown",
      "source": [
        "# Cálculo dos Quartis"
      ],
      "metadata": {
        "id": "017JismbbtHV"
      }
    },
    {
      "cell_type": "code",
      "source": [
        "# 1° Melhor Taxa de Compra\n",
        "Q4 = np.percentile(tx_compra,[100])\n",
        "Q4"
      ],
      "metadata": {
        "colab": {
          "base_uri": "https://localhost:8080/"
        },
        "id": "vj0ijpv1U3wk",
        "outputId": "676c50de-641b-4e2e-ec79-c344fe54549c"
      },
      "execution_count": 15,
      "outputs": [
        {
          "output_type": "execute_result",
          "data": {
            "text/plain": [
              "array([13.84])"
            ]
          },
          "metadata": {},
          "execution_count": 15
        }
      ]
    },
    {
      "cell_type": "code",
      "source": [
        "# 2° Melhor Taxa de Compra\n",
        "Q3 = np.percentile(tx_compra,[75])\n",
        "Q3"
      ],
      "metadata": {
        "colab": {
          "base_uri": "https://localhost:8080/"
        },
        "id": "T4JRJ6CTU3zV",
        "outputId": "97bbd8d2-b3fc-41bc-f805-bdd431676861"
      },
      "execution_count": 16,
      "outputs": [
        {
          "output_type": "execute_result",
          "data": {
            "text/plain": [
              "array([11.89])"
            ]
          },
          "metadata": {},
          "execution_count": 16
        }
      ]
    },
    {
      "cell_type": "code",
      "source": [
        "# 3° Média Taxa de Compra\n",
        "Q2 = np.percentile(tx_compra,[50])\n",
        "Q2"
      ],
      "metadata": {
        "colab": {
          "base_uri": "https://localhost:8080/"
        },
        "id": "_QhcTLHrU32W",
        "outputId": "0f679973-6d63-4dc8-e6a0-93ab4f5dfdf9"
      },
      "execution_count": 17,
      "outputs": [
        {
          "output_type": "execute_result",
          "data": {
            "text/plain": [
              "array([10.3])"
            ]
          },
          "metadata": {},
          "execution_count": 17
        }
      ]
    },
    {
      "cell_type": "code",
      "execution_count": 18,
      "metadata": {
        "id": "lHjpc7zaGsLp",
        "colab": {
          "base_uri": "https://localhost:8080/"
        },
        "outputId": "a5031358-764b-4ee1-ff9e-75bf3765c155"
      },
      "outputs": [
        {
          "output_type": "execute_result",
          "data": {
            "text/plain": [
              "array([7.45])"
            ]
          },
          "metadata": {},
          "execution_count": 18
        }
      ],
      "source": [
        "# 4° Ruim Taxa de Compra\n",
        "Q1 = np.percentile(tx_compra,[25])\n",
        "Q1"
      ]
    },
    {
      "cell_type": "code",
      "source": [
        "# Péssima Taxa de Compra\n",
        "Q0 = np.percentile(tx_compra,[0])\n",
        "Q0"
      ],
      "metadata": {
        "colab": {
          "base_uri": "https://localhost:8080/"
        },
        "id": "fMzTEDC6aZZb",
        "outputId": "b97b0144-60cf-4b51-812b-23302ea64c0f"
      },
      "execution_count": 19,
      "outputs": [
        {
          "output_type": "execute_result",
          "data": {
            "text/plain": [
              "array([5.81])"
            ]
          },
          "metadata": {},
          "execution_count": 19
        }
      ]
    },
    {
      "cell_type": "code",
      "source": [
        "tx_compra. describe()"
      ],
      "metadata": {
        "colab": {
          "base_uri": "https://localhost:8080/"
        },
        "id": "taKfZ8KrU3tb",
        "outputId": "0fdc90c6-4e28-4e20-f91e-00c715ce7e5f"
      },
      "execution_count": 20,
      "outputs": [
        {
          "output_type": "execute_result",
          "data": {
            "text/plain": [
              "count    917.000000\n",
              "mean       9.886423\n",
              "std        2.301583\n",
              "min        5.810000\n",
              "25%        7.450000\n",
              "50%       10.300000\n",
              "75%       11.890000\n",
              "max       13.840000\n",
              "Name: Taxa Compra Manha, dtype: float64"
            ]
          },
          "metadata": {},
          "execution_count": 20
        }
      ]
    }
  ],
  "metadata": {
    "colab": {
      "provenance": [],
      "authorship_tag": "ABX9TyPT5+3XwMWmOsREEqadFTAP",
      "include_colab_link": true
    },
    "kernelspec": {
      "display_name": "Python 3",
      "name": "python3"
    },
    "language_info": {
      "name": "python"
    }
  },
  "nbformat": 4,
  "nbformat_minor": 0
}