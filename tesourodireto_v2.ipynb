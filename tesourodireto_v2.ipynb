{
  "nbformat": 4,
  "nbformat_minor": 0,
  "metadata": {
    "colab": {
      "provenance": [],
      "authorship_tag": "ABX9TyNMLjChEDOK7VpVMvPE+I3o"
    },
    "kernelspec": {
      "name": "python3",
      "display_name": "Python 3"
    },
    "language_info": {
      "name": "python"
    }
  },
  "cells": [
    {
      "cell_type": "markdown",
      "source": [
        "# Bibliotecas"
      ],
      "metadata": {
        "id": "EGQtJBzRGgXa"
      }
    },
    {
      "cell_type": "code",
      "execution_count": null,
      "metadata": {
        "colab": {
          "base_uri": "https://localhost:8080/"
        },
        "id": "N0C2U6cmGVsv",
        "outputId": "5c7ec39a-59e7-41e6-de38-cf2f7604ca69"
      },
      "outputs": [
        {
          "output_type": "stream",
          "name": "stdout",
          "text": [
            "Requirement already satisfied: pandas in /usr/local/lib/python3.10/dist-packages (1.5.3)\n",
            "Requirement already satisfied: python-dateutil>=2.8.1 in /usr/local/lib/python3.10/dist-packages (from pandas) (2.8.2)\n",
            "Requirement already satisfied: pytz>=2020.1 in /usr/local/lib/python3.10/dist-packages (from pandas) (2023.3.post1)\n",
            "Requirement already satisfied: numpy>=1.21.0 in /usr/local/lib/python3.10/dist-packages (from pandas) (1.23.5)\n",
            "Requirement already satisfied: six>=1.5 in /usr/local/lib/python3.10/dist-packages (from python-dateutil>=2.8.1->pandas) (1.16.0)\n",
            "Requirement already satisfied: numpy in /usr/local/lib/python3.10/dist-packages (1.23.5)\n",
            "Requirement already satisfied: seaborn in /usr/local/lib/python3.10/dist-packages (0.12.2)\n",
            "Requirement already satisfied: numpy!=1.24.0,>=1.17 in /usr/local/lib/python3.10/dist-packages (from seaborn) (1.23.5)\n",
            "Requirement already satisfied: pandas>=0.25 in /usr/local/lib/python3.10/dist-packages (from seaborn) (1.5.3)\n",
            "Requirement already satisfied: matplotlib!=3.6.1,>=3.1 in /usr/local/lib/python3.10/dist-packages (from seaborn) (3.7.1)\n",
            "Requirement already satisfied: contourpy>=1.0.1 in /usr/local/lib/python3.10/dist-packages (from matplotlib!=3.6.1,>=3.1->seaborn) (1.1.1)\n",
            "Requirement already satisfied: cycler>=0.10 in /usr/local/lib/python3.10/dist-packages (from matplotlib!=3.6.1,>=3.1->seaborn) (0.12.0)\n",
            "Requirement already satisfied: fonttools>=4.22.0 in /usr/local/lib/python3.10/dist-packages (from matplotlib!=3.6.1,>=3.1->seaborn) (4.43.0)\n",
            "Requirement already satisfied: kiwisolver>=1.0.1 in /usr/local/lib/python3.10/dist-packages (from matplotlib!=3.6.1,>=3.1->seaborn) (1.4.5)\n",
            "Requirement already satisfied: packaging>=20.0 in /usr/local/lib/python3.10/dist-packages (from matplotlib!=3.6.1,>=3.1->seaborn) (23.1)\n",
            "Requirement already satisfied: pillow>=6.2.0 in /usr/local/lib/python3.10/dist-packages (from matplotlib!=3.6.1,>=3.1->seaborn) (9.4.0)\n",
            "Requirement already satisfied: pyparsing>=2.3.1 in /usr/local/lib/python3.10/dist-packages (from matplotlib!=3.6.1,>=3.1->seaborn) (3.1.1)\n",
            "Requirement already satisfied: python-dateutil>=2.7 in /usr/local/lib/python3.10/dist-packages (from matplotlib!=3.6.1,>=3.1->seaborn) (2.8.2)\n",
            "Requirement already satisfied: pytz>=2020.1 in /usr/local/lib/python3.10/dist-packages (from pandas>=0.25->seaborn) (2023.3.post1)\n",
            "Requirement already satisfied: six>=1.5 in /usr/local/lib/python3.10/dist-packages (from python-dateutil>=2.7->matplotlib!=3.6.1,>=3.1->seaborn) (1.16.0)\n",
            "Requirement already satisfied: matplotlib in /usr/local/lib/python3.10/dist-packages (3.7.1)\n",
            "Requirement already satisfied: contourpy>=1.0.1 in /usr/local/lib/python3.10/dist-packages (from matplotlib) (1.1.1)\n",
            "Requirement already satisfied: cycler>=0.10 in /usr/local/lib/python3.10/dist-packages (from matplotlib) (0.12.0)\n",
            "Requirement already satisfied: fonttools>=4.22.0 in /usr/local/lib/python3.10/dist-packages (from matplotlib) (4.43.0)\n",
            "Requirement already satisfied: kiwisolver>=1.0.1 in /usr/local/lib/python3.10/dist-packages (from matplotlib) (1.4.5)\n",
            "Requirement already satisfied: numpy>=1.20 in /usr/local/lib/python3.10/dist-packages (from matplotlib) (1.23.5)\n",
            "Requirement already satisfied: packaging>=20.0 in /usr/local/lib/python3.10/dist-packages (from matplotlib) (23.1)\n",
            "Requirement already satisfied: pillow>=6.2.0 in /usr/local/lib/python3.10/dist-packages (from matplotlib) (9.4.0)\n",
            "Requirement already satisfied: pyparsing>=2.3.1 in /usr/local/lib/python3.10/dist-packages (from matplotlib) (3.1.1)\n",
            "Requirement already satisfied: python-dateutil>=2.7 in /usr/local/lib/python3.10/dist-packages (from matplotlib) (2.8.2)\n",
            "Requirement already satisfied: six>=1.5 in /usr/local/lib/python3.10/dist-packages (from python-dateutil>=2.7->matplotlib) (1.16.0)\n"
          ]
        }
      ],
      "source": [
        "%pip install pandas\n",
        "%pip install numpy\n",
        "import pandas as pd\n",
        "import numpy as np\n",
        "%pip install seaborn\n",
        "import seaborn as sb\n",
        "%pip install matplotlib\n",
        "import matplotlib.pyplot as plot"
      ]
    },
    {
      "cell_type": "markdown",
      "source": [
        "# API -Tesouro Transparente"
      ],
      "metadata": {
        "id": "WEjH4QsZG2vU"
      }
    },
    {
      "cell_type": "code",
      "source": [
        "url = 'https://www.tesourotransparente.gov.br/ckan/dataset/df56aa42-484a-4a59-8184-7676580c81e3/resource/796d2059-14e9-44e3-80c9-2d9e30b405c1/download/PrecoTaxaTesouroDireto.csv'"
      ],
      "metadata": {
        "id": "gKnq7ATTGrsk"
      },
      "execution_count": null,
      "outputs": []
    },
    {
      "cell_type": "markdown",
      "source": [
        "# Organizando o Dataframe"
      ],
      "metadata": {
        "id": "2gUPzzHPHCn2"
      }
    },
    {
      "cell_type": "code",
      "source": [
        "df = pd.read_csv(url, sep =';')\n",
        "df.tail()"
      ],
      "metadata": {
        "colab": {
          "base_uri": "https://localhost:8080/",
          "height": 276
        },
        "id": "oqkHVEBmGrvU",
        "outputId": "c2f9452d-0175-4c88-d790-39fd3f1bd539"
      },
      "execution_count": null,
      "outputs": [
        {
          "output_type": "execute_result",
          "data": {
            "text/plain": [
              "                               Tipo Titulo Data Vencimento   Data Base  \\\n",
              "134433  Tesouro IPCA+ com Juros Semestrais      15/08/2008  27/09/2006   \n",
              "134434  Tesouro IPCA+ com Juros Semestrais      15/05/2009  27/09/2006   \n",
              "134435  Tesouro IPCA+ com Juros Semestrais      15/05/2007  27/09/2006   \n",
              "134436                       Tesouro IPCA+      15/08/2024  27/09/2006   \n",
              "134437                       Tesouro IPCA+      15/05/2015  27/09/2006   \n",
              "\n",
              "       Taxa Compra Manha Taxa Venda Manha PU Compra Manha PU Venda Manha  \\\n",
              "134433              9,55             9,57         1520,54        1520,05   \n",
              "134434              9,60             9,64         1510,32        1509,00   \n",
              "134435              9,44             9,46         1604,92        1604,75   \n",
              "134436              7,91             7,99          412,18         406,78   \n",
              "134437              8,94             9,00          766,07         762,46   \n",
              "\n",
              "       PU Base Manha  \n",
              "134433       1519,43  \n",
              "134434       1508,38  \n",
              "134435       1604,10  \n",
              "134436        406,64  \n",
              "134437        762,16  "
            ],
            "text/html": [
              "\n",
              "  <div id=\"df-9d1c6ccb-6913-40fc-ac4a-e43a4a6262a2\" class=\"colab-df-container\">\n",
              "    <div>\n",
              "<style scoped>\n",
              "    .dataframe tbody tr th:only-of-type {\n",
              "        vertical-align: middle;\n",
              "    }\n",
              "\n",
              "    .dataframe tbody tr th {\n",
              "        vertical-align: top;\n",
              "    }\n",
              "\n",
              "    .dataframe thead th {\n",
              "        text-align: right;\n",
              "    }\n",
              "</style>\n",
              "<table border=\"1\" class=\"dataframe\">\n",
              "  <thead>\n",
              "    <tr style=\"text-align: right;\">\n",
              "      <th></th>\n",
              "      <th>Tipo Titulo</th>\n",
              "      <th>Data Vencimento</th>\n",
              "      <th>Data Base</th>\n",
              "      <th>Taxa Compra Manha</th>\n",
              "      <th>Taxa Venda Manha</th>\n",
              "      <th>PU Compra Manha</th>\n",
              "      <th>PU Venda Manha</th>\n",
              "      <th>PU Base Manha</th>\n",
              "    </tr>\n",
              "  </thead>\n",
              "  <tbody>\n",
              "    <tr>\n",
              "      <th>134433</th>\n",
              "      <td>Tesouro IPCA+ com Juros Semestrais</td>\n",
              "      <td>15/08/2008</td>\n",
              "      <td>27/09/2006</td>\n",
              "      <td>9,55</td>\n",
              "      <td>9,57</td>\n",
              "      <td>1520,54</td>\n",
              "      <td>1520,05</td>\n",
              "      <td>1519,43</td>\n",
              "    </tr>\n",
              "    <tr>\n",
              "      <th>134434</th>\n",
              "      <td>Tesouro IPCA+ com Juros Semestrais</td>\n",
              "      <td>15/05/2009</td>\n",
              "      <td>27/09/2006</td>\n",
              "      <td>9,60</td>\n",
              "      <td>9,64</td>\n",
              "      <td>1510,32</td>\n",
              "      <td>1509,00</td>\n",
              "      <td>1508,38</td>\n",
              "    </tr>\n",
              "    <tr>\n",
              "      <th>134435</th>\n",
              "      <td>Tesouro IPCA+ com Juros Semestrais</td>\n",
              "      <td>15/05/2007</td>\n",
              "      <td>27/09/2006</td>\n",
              "      <td>9,44</td>\n",
              "      <td>9,46</td>\n",
              "      <td>1604,92</td>\n",
              "      <td>1604,75</td>\n",
              "      <td>1604,10</td>\n",
              "    </tr>\n",
              "    <tr>\n",
              "      <th>134436</th>\n",
              "      <td>Tesouro IPCA+</td>\n",
              "      <td>15/08/2024</td>\n",
              "      <td>27/09/2006</td>\n",
              "      <td>7,91</td>\n",
              "      <td>7,99</td>\n",
              "      <td>412,18</td>\n",
              "      <td>406,78</td>\n",
              "      <td>406,64</td>\n",
              "    </tr>\n",
              "    <tr>\n",
              "      <th>134437</th>\n",
              "      <td>Tesouro IPCA+</td>\n",
              "      <td>15/05/2015</td>\n",
              "      <td>27/09/2006</td>\n",
              "      <td>8,94</td>\n",
              "      <td>9,00</td>\n",
              "      <td>766,07</td>\n",
              "      <td>762,46</td>\n",
              "      <td>762,16</td>\n",
              "    </tr>\n",
              "  </tbody>\n",
              "</table>\n",
              "</div>\n",
              "    <div class=\"colab-df-buttons\">\n",
              "\n",
              "  <div class=\"colab-df-container\">\n",
              "    <button class=\"colab-df-convert\" onclick=\"convertToInteractive('df-9d1c6ccb-6913-40fc-ac4a-e43a4a6262a2')\"\n",
              "            title=\"Convert this dataframe to an interactive table.\"\n",
              "            style=\"display:none;\">\n",
              "\n",
              "  <svg xmlns=\"http://www.w3.org/2000/svg\" height=\"24px\" viewBox=\"0 -960 960 960\">\n",
              "    <path d=\"M120-120v-720h720v720H120Zm60-500h600v-160H180v160Zm220 220h160v-160H400v160Zm0 220h160v-160H400v160ZM180-400h160v-160H180v160Zm440 0h160v-160H620v160ZM180-180h160v-160H180v160Zm440 0h160v-160H620v160Z\"/>\n",
              "  </svg>\n",
              "    </button>\n",
              "\n",
              "  <style>\n",
              "    .colab-df-container {\n",
              "      display:flex;\n",
              "      gap: 12px;\n",
              "    }\n",
              "\n",
              "    .colab-df-convert {\n",
              "      background-color: #E8F0FE;\n",
              "      border: none;\n",
              "      border-radius: 50%;\n",
              "      cursor: pointer;\n",
              "      display: none;\n",
              "      fill: #1967D2;\n",
              "      height: 32px;\n",
              "      padding: 0 0 0 0;\n",
              "      width: 32px;\n",
              "    }\n",
              "\n",
              "    .colab-df-convert:hover {\n",
              "      background-color: #E2EBFA;\n",
              "      box-shadow: 0px 1px 2px rgba(60, 64, 67, 0.3), 0px 1px 3px 1px rgba(60, 64, 67, 0.15);\n",
              "      fill: #174EA6;\n",
              "    }\n",
              "\n",
              "    .colab-df-buttons div {\n",
              "      margin-bottom: 4px;\n",
              "    }\n",
              "\n",
              "    [theme=dark] .colab-df-convert {\n",
              "      background-color: #3B4455;\n",
              "      fill: #D2E3FC;\n",
              "    }\n",
              "\n",
              "    [theme=dark] .colab-df-convert:hover {\n",
              "      background-color: #434B5C;\n",
              "      box-shadow: 0px 1px 3px 1px rgba(0, 0, 0, 0.15);\n",
              "      filter: drop-shadow(0px 1px 2px rgba(0, 0, 0, 0.3));\n",
              "      fill: #FFFFFF;\n",
              "    }\n",
              "  </style>\n",
              "\n",
              "    <script>\n",
              "      const buttonEl =\n",
              "        document.querySelector('#df-9d1c6ccb-6913-40fc-ac4a-e43a4a6262a2 button.colab-df-convert');\n",
              "      buttonEl.style.display =\n",
              "        google.colab.kernel.accessAllowed ? 'block' : 'none';\n",
              "\n",
              "      async function convertToInteractive(key) {\n",
              "        const element = document.querySelector('#df-9d1c6ccb-6913-40fc-ac4a-e43a4a6262a2');\n",
              "        const dataTable =\n",
              "          await google.colab.kernel.invokeFunction('convertToInteractive',\n",
              "                                                    [key], {});\n",
              "        if (!dataTable) return;\n",
              "\n",
              "        const docLinkHtml = 'Like what you see? Visit the ' +\n",
              "          '<a target=\"_blank\" href=https://colab.research.google.com/notebooks/data_table.ipynb>data table notebook</a>'\n",
              "          + ' to learn more about interactive tables.';\n",
              "        element.innerHTML = '';\n",
              "        dataTable['output_type'] = 'display_data';\n",
              "        await google.colab.output.renderOutput(dataTable, element);\n",
              "        const docLink = document.createElement('div');\n",
              "        docLink.innerHTML = docLinkHtml;\n",
              "        element.appendChild(docLink);\n",
              "      }\n",
              "    </script>\n",
              "  </div>\n",
              "\n",
              "\n",
              "<div id=\"df-1d31ab41-a412-44fe-bae1-d1af35041130\">\n",
              "  <button class=\"colab-df-quickchart\" onclick=\"quickchart('df-1d31ab41-a412-44fe-bae1-d1af35041130')\"\n",
              "            title=\"Suggest charts.\"\n",
              "            style=\"display:none;\">\n",
              "\n",
              "<svg xmlns=\"http://www.w3.org/2000/svg\" height=\"24px\"viewBox=\"0 0 24 24\"\n",
              "     width=\"24px\">\n",
              "    <g>\n",
              "        <path d=\"M19 3H5c-1.1 0-2 .9-2 2v14c0 1.1.9 2 2 2h14c1.1 0 2-.9 2-2V5c0-1.1-.9-2-2-2zM9 17H7v-7h2v7zm4 0h-2V7h2v10zm4 0h-2v-4h2v4z\"/>\n",
              "    </g>\n",
              "</svg>\n",
              "  </button>\n",
              "\n",
              "<style>\n",
              "  .colab-df-quickchart {\n",
              "      --bg-color: #E8F0FE;\n",
              "      --fill-color: #1967D2;\n",
              "      --hover-bg-color: #E2EBFA;\n",
              "      --hover-fill-color: #174EA6;\n",
              "      --disabled-fill-color: #AAA;\n",
              "      --disabled-bg-color: #DDD;\n",
              "  }\n",
              "\n",
              "  [theme=dark] .colab-df-quickchart {\n",
              "      --bg-color: #3B4455;\n",
              "      --fill-color: #D2E3FC;\n",
              "      --hover-bg-color: #434B5C;\n",
              "      --hover-fill-color: #FFFFFF;\n",
              "      --disabled-bg-color: #3B4455;\n",
              "      --disabled-fill-color: #666;\n",
              "  }\n",
              "\n",
              "  .colab-df-quickchart {\n",
              "    background-color: var(--bg-color);\n",
              "    border: none;\n",
              "    border-radius: 50%;\n",
              "    cursor: pointer;\n",
              "    display: none;\n",
              "    fill: var(--fill-color);\n",
              "    height: 32px;\n",
              "    padding: 0;\n",
              "    width: 32px;\n",
              "  }\n",
              "\n",
              "  .colab-df-quickchart:hover {\n",
              "    background-color: var(--hover-bg-color);\n",
              "    box-shadow: 0 1px 2px rgba(60, 64, 67, 0.3), 0 1px 3px 1px rgba(60, 64, 67, 0.15);\n",
              "    fill: var(--button-hover-fill-color);\n",
              "  }\n",
              "\n",
              "  .colab-df-quickchart-complete:disabled,\n",
              "  .colab-df-quickchart-complete:disabled:hover {\n",
              "    background-color: var(--disabled-bg-color);\n",
              "    fill: var(--disabled-fill-color);\n",
              "    box-shadow: none;\n",
              "  }\n",
              "\n",
              "  .colab-df-spinner {\n",
              "    border: 2px solid var(--fill-color);\n",
              "    border-color: transparent;\n",
              "    border-bottom-color: var(--fill-color);\n",
              "    animation:\n",
              "      spin 1s steps(1) infinite;\n",
              "  }\n",
              "\n",
              "  @keyframes spin {\n",
              "    0% {\n",
              "      border-color: transparent;\n",
              "      border-bottom-color: var(--fill-color);\n",
              "      border-left-color: var(--fill-color);\n",
              "    }\n",
              "    20% {\n",
              "      border-color: transparent;\n",
              "      border-left-color: var(--fill-color);\n",
              "      border-top-color: var(--fill-color);\n",
              "    }\n",
              "    30% {\n",
              "      border-color: transparent;\n",
              "      border-left-color: var(--fill-color);\n",
              "      border-top-color: var(--fill-color);\n",
              "      border-right-color: var(--fill-color);\n",
              "    }\n",
              "    40% {\n",
              "      border-color: transparent;\n",
              "      border-right-color: var(--fill-color);\n",
              "      border-top-color: var(--fill-color);\n",
              "    }\n",
              "    60% {\n",
              "      border-color: transparent;\n",
              "      border-right-color: var(--fill-color);\n",
              "    }\n",
              "    80% {\n",
              "      border-color: transparent;\n",
              "      border-right-color: var(--fill-color);\n",
              "      border-bottom-color: var(--fill-color);\n",
              "    }\n",
              "    90% {\n",
              "      border-color: transparent;\n",
              "      border-bottom-color: var(--fill-color);\n",
              "    }\n",
              "  }\n",
              "</style>\n",
              "\n",
              "  <script>\n",
              "    async function quickchart(key) {\n",
              "      const quickchartButtonEl =\n",
              "        document.querySelector('#' + key + ' button');\n",
              "      quickchartButtonEl.disabled = true;  // To prevent multiple clicks.\n",
              "      quickchartButtonEl.classList.add('colab-df-spinner');\n",
              "      try {\n",
              "        const charts = await google.colab.kernel.invokeFunction(\n",
              "            'suggestCharts', [key], {});\n",
              "      } catch (error) {\n",
              "        console.error('Error during call to suggestCharts:', error);\n",
              "      }\n",
              "      quickchartButtonEl.classList.remove('colab-df-spinner');\n",
              "      quickchartButtonEl.classList.add('colab-df-quickchart-complete');\n",
              "    }\n",
              "    (() => {\n",
              "      let quickchartButtonEl =\n",
              "        document.querySelector('#df-1d31ab41-a412-44fe-bae1-d1af35041130 button');\n",
              "      quickchartButtonEl.style.display =\n",
              "        google.colab.kernel.accessAllowed ? 'block' : 'none';\n",
              "    })();\n",
              "  </script>\n",
              "</div>\n",
              "    </div>\n",
              "  </div>\n"
            ]
          },
          "metadata": {},
          "execution_count": 5
        }
      ]
    },
    {
      "cell_type": "markdown",
      "source": [
        "# Organizando Datas"
      ],
      "metadata": {
        "id": "nTYIKtD3HK5h"
      }
    },
    {
      "cell_type": "code",
      "source": [
        "df['Data Base']       = pd.to_datetime(df['Data Base']      , dayfirts = True)\n",
        "df['Data Vencimento'] = pd.to_datetime(df['Data Vencimento'], dayfirts = True)"
      ],
      "metadata": {
        "colab": {
          "base_uri": "https://localhost:8080/",
          "height": 193
        },
        "id": "GzW8nlhcGrxv",
        "outputId": "93566a19-53f8-44b6-c596-3150b4e036cb"
      },
      "execution_count": null,
      "outputs": [
        {
          "output_type": "error",
          "ename": "TypeError",
          "evalue": "ignored",
          "traceback": [
            "\u001b[0;31m---------------------------------------------------------------------------\u001b[0m",
            "\u001b[0;31mTypeError\u001b[0m                                 Traceback (most recent call last)",
            "\u001b[0;32m<ipython-input-6-c258e54b6b2b>\u001b[0m in \u001b[0;36m<cell line: 1>\u001b[0;34m()\u001b[0m\n\u001b[0;32m----> 1\u001b[0;31m \u001b[0mdf\u001b[0m\u001b[0;34m[\u001b[0m\u001b[0;34m'Data Base'\u001b[0m\u001b[0;34m]\u001b[0m       \u001b[0;34m=\u001b[0m \u001b[0mpd\u001b[0m\u001b[0;34m.\u001b[0m\u001b[0mto_datetime\u001b[0m\u001b[0;34m(\u001b[0m\u001b[0mdf\u001b[0m\u001b[0;34m[\u001b[0m\u001b[0;34m'Data Base'\u001b[0m\u001b[0;34m]\u001b[0m      \u001b[0;34m,\u001b[0m \u001b[0mdayfirts\u001b[0m \u001b[0;34m=\u001b[0m \u001b[0;32mTrue\u001b[0m\u001b[0;34m)\u001b[0m\u001b[0;34m\u001b[0m\u001b[0;34m\u001b[0m\u001b[0m\n\u001b[0m\u001b[1;32m      2\u001b[0m \u001b[0mdf\u001b[0m\u001b[0;34m[\u001b[0m\u001b[0;34m'Data Vencimento'\u001b[0m\u001b[0;34m]\u001b[0m \u001b[0;34m=\u001b[0m \u001b[0mpd\u001b[0m\u001b[0;34m.\u001b[0m\u001b[0mto_datetime\u001b[0m\u001b[0;34m(\u001b[0m\u001b[0mdf\u001b[0m\u001b[0;34m[\u001b[0m\u001b[0;34m'Data Vencimento'\u001b[0m\u001b[0;34m]\u001b[0m\u001b[0;34m,\u001b[0m \u001b[0mdayfirts\u001b[0m \u001b[0;34m=\u001b[0m \u001b[0;32mTrue\u001b[0m\u001b[0;34m)\u001b[0m\u001b[0;34m\u001b[0m\u001b[0;34m\u001b[0m\u001b[0m\n",
            "\u001b[0;31mTypeError\u001b[0m: to_datetime() got an unexpected keyword argument 'dayfirts'"
          ]
        }
      ]
    },
    {
      "cell_type": "markdown",
      "source": [
        "# Análise Exploratória do Dataframe"
      ],
      "metadata": {
        "id": "oZ5MZYpGHowp"
      }
    },
    {
      "cell_type": "code",
      "source": [
        "#Tamanho do corpo(linhas e colunas)\n",
        "df.shape"
      ],
      "metadata": {
        "colab": {
          "base_uri": "https://localhost:8080/"
        },
        "id": "FrJ-RKHqGr0f",
        "outputId": "b863d94e-e5c3-4618-83df-337492c7a9f8"
      },
      "execution_count": null,
      "outputs": [
        {
          "output_type": "execute_result",
          "data": {
            "text/plain": [
              "(134438, 8)"
            ]
          },
          "metadata": {},
          "execution_count": 7
        }
      ]
    },
    {
      "cell_type": "code",
      "source": [
        "#Verificando valores faltantes\n",
        "df.isnull().sum()"
      ],
      "metadata": {
        "colab": {
          "base_uri": "https://localhost:8080/"
        },
        "id": "aSL5uJw3Gr3P",
        "outputId": "fc814011-5930-40a1-9384-31c826a71786"
      },
      "execution_count": null,
      "outputs": [
        {
          "output_type": "execute_result",
          "data": {
            "text/plain": [
              "Tipo Titulo          0\n",
              "Data Vencimento      0\n",
              "Data Base            0\n",
              "Taxa Compra Manha    0\n",
              "Taxa Venda Manha     0\n",
              "PU Compra Manha      0\n",
              "PU Venda Manha       0\n",
              "PU Base Manha        0\n",
              "dtype: int64"
            ]
          },
          "metadata": {},
          "execution_count": 8
        }
      ]
    },
    {
      "cell_type": "code",
      "source": [
        "# 1° Verificando Títulos únicos\n",
        "titulo = df['Tipo Titulo'].unique()\n",
        "titulo"
      ],
      "metadata": {
        "colab": {
          "base_uri": "https://localhost:8080/"
        },
        "id": "8YMN5bpQGr5X",
        "outputId": "43626fd6-e6a2-43bf-b2cc-eec75b6a03d6"
      },
      "execution_count": null,
      "outputs": [
        {
          "output_type": "execute_result",
          "data": {
            "text/plain": [
              "array(['Tesouro IGPM+ com Juros Semestrais',\n",
              "       'Tesouro Prefixado com Juros Semestrais', 'Tesouro Selic',\n",
              "       'Tesouro Prefixado', 'Tesouro IPCA+ com Juros Semestrais',\n",
              "       'Tesouro IPCA+', 'Tesouro Renda+ Aposentadoria Extra',\n",
              "       'Tesouro Educa+'], dtype=object)"
            ]
          },
          "metadata": {},
          "execution_count": 9
        }
      ]
    },
    {
      "cell_type": "code",
      "source": [
        "# 2° Verificando Data base únicos\n",
        "data_base = df['Data Base'].unique()\n",
        "data_base"
      ],
      "metadata": {
        "colab": {
          "base_uri": "https://localhost:8080/"
        },
        "id": "rf-CRoRoGr7z",
        "outputId": "a870b8d7-7487-4e63-9335-88fdfe54aea8"
      },
      "execution_count": null,
      "outputs": [
        {
          "output_type": "execute_result",
          "data": {
            "text/plain": [
              "array(['04/08/2005', '03/08/2005', '02/08/2005', ..., '22/08/2006',\n",
              "       '29/09/2006', '28/09/2006'], dtype=object)"
            ]
          },
          "metadata": {},
          "execution_count": 10
        }
      ]
    },
    {
      "cell_type": "code",
      "source": [
        "df.head()"
      ],
      "metadata": {
        "colab": {
          "base_uri": "https://localhost:8080/",
          "height": 310
        },
        "id": "QT-hj1cQGr-H",
        "outputId": "1eec71ec-e453-4ce9-9d81-db5a53a89337"
      },
      "execution_count": null,
      "outputs": [
        {
          "output_type": "execute_result",
          "data": {
            "text/plain": [
              "                              Tipo Titulo Data Vencimento   Data Base  \\\n",
              "0      Tesouro IGPM+ com Juros Semestrais      01/03/2011  04/08/2005   \n",
              "1      Tesouro IGPM+ com Juros Semestrais      01/04/2021  04/08/2005   \n",
              "2      Tesouro IGPM+ com Juros Semestrais      01/01/2031  04/08/2005   \n",
              "3  Tesouro Prefixado com Juros Semestrais      01/01/2010  04/08/2005   \n",
              "4  Tesouro Prefixado com Juros Semestrais      01/01/2008  04/08/2005   \n",
              "\n",
              "  Taxa Compra Manha Taxa Venda Manha PU Compra Manha PU Venda Manha  \\\n",
              "0              8,50             8,56         1683,16        1678,86   \n",
              "1              8,40             8,48         1499,95        1489,54   \n",
              "2              8,40             8,50         2518,99        2495,14   \n",
              "3             16,76            16,82          816,35         814,87   \n",
              "4             17,40            17,46          878,50         877,54   \n",
              "\n",
              "  PU Base Manha  \n",
              "0       1678,23  \n",
              "1       1488,98  \n",
              "2       2494,21  \n",
              "3        814,37  \n",
              "4        876,98  "
            ],
            "text/html": [
              "\n",
              "  <div id=\"df-e5ccc0cc-d612-4ff6-8e9c-4b1ec8885a00\" class=\"colab-df-container\">\n",
              "    <div>\n",
              "<style scoped>\n",
              "    .dataframe tbody tr th:only-of-type {\n",
              "        vertical-align: middle;\n",
              "    }\n",
              "\n",
              "    .dataframe tbody tr th {\n",
              "        vertical-align: top;\n",
              "    }\n",
              "\n",
              "    .dataframe thead th {\n",
              "        text-align: right;\n",
              "    }\n",
              "</style>\n",
              "<table border=\"1\" class=\"dataframe\">\n",
              "  <thead>\n",
              "    <tr style=\"text-align: right;\">\n",
              "      <th></th>\n",
              "      <th>Tipo Titulo</th>\n",
              "      <th>Data Vencimento</th>\n",
              "      <th>Data Base</th>\n",
              "      <th>Taxa Compra Manha</th>\n",
              "      <th>Taxa Venda Manha</th>\n",
              "      <th>PU Compra Manha</th>\n",
              "      <th>PU Venda Manha</th>\n",
              "      <th>PU Base Manha</th>\n",
              "    </tr>\n",
              "  </thead>\n",
              "  <tbody>\n",
              "    <tr>\n",
              "      <th>0</th>\n",
              "      <td>Tesouro IGPM+ com Juros Semestrais</td>\n",
              "      <td>01/03/2011</td>\n",
              "      <td>04/08/2005</td>\n",
              "      <td>8,50</td>\n",
              "      <td>8,56</td>\n",
              "      <td>1683,16</td>\n",
              "      <td>1678,86</td>\n",
              "      <td>1678,23</td>\n",
              "    </tr>\n",
              "    <tr>\n",
              "      <th>1</th>\n",
              "      <td>Tesouro IGPM+ com Juros Semestrais</td>\n",
              "      <td>01/04/2021</td>\n",
              "      <td>04/08/2005</td>\n",
              "      <td>8,40</td>\n",
              "      <td>8,48</td>\n",
              "      <td>1499,95</td>\n",
              "      <td>1489,54</td>\n",
              "      <td>1488,98</td>\n",
              "    </tr>\n",
              "    <tr>\n",
              "      <th>2</th>\n",
              "      <td>Tesouro IGPM+ com Juros Semestrais</td>\n",
              "      <td>01/01/2031</td>\n",
              "      <td>04/08/2005</td>\n",
              "      <td>8,40</td>\n",
              "      <td>8,50</td>\n",
              "      <td>2518,99</td>\n",
              "      <td>2495,14</td>\n",
              "      <td>2494,21</td>\n",
              "    </tr>\n",
              "    <tr>\n",
              "      <th>3</th>\n",
              "      <td>Tesouro Prefixado com Juros Semestrais</td>\n",
              "      <td>01/01/2010</td>\n",
              "      <td>04/08/2005</td>\n",
              "      <td>16,76</td>\n",
              "      <td>16,82</td>\n",
              "      <td>816,35</td>\n",
              "      <td>814,87</td>\n",
              "      <td>814,37</td>\n",
              "    </tr>\n",
              "    <tr>\n",
              "      <th>4</th>\n",
              "      <td>Tesouro Prefixado com Juros Semestrais</td>\n",
              "      <td>01/01/2008</td>\n",
              "      <td>04/08/2005</td>\n",
              "      <td>17,40</td>\n",
              "      <td>17,46</td>\n",
              "      <td>878,50</td>\n",
              "      <td>877,54</td>\n",
              "      <td>876,98</td>\n",
              "    </tr>\n",
              "  </tbody>\n",
              "</table>\n",
              "</div>\n",
              "    <div class=\"colab-df-buttons\">\n",
              "\n",
              "  <div class=\"colab-df-container\">\n",
              "    <button class=\"colab-df-convert\" onclick=\"convertToInteractive('df-e5ccc0cc-d612-4ff6-8e9c-4b1ec8885a00')\"\n",
              "            title=\"Convert this dataframe to an interactive table.\"\n",
              "            style=\"display:none;\">\n",
              "\n",
              "  <svg xmlns=\"http://www.w3.org/2000/svg\" height=\"24px\" viewBox=\"0 -960 960 960\">\n",
              "    <path d=\"M120-120v-720h720v720H120Zm60-500h600v-160H180v160Zm220 220h160v-160H400v160Zm0 220h160v-160H400v160ZM180-400h160v-160H180v160Zm440 0h160v-160H620v160ZM180-180h160v-160H180v160Zm440 0h160v-160H620v160Z\"/>\n",
              "  </svg>\n",
              "    </button>\n",
              "\n",
              "  <style>\n",
              "    .colab-df-container {\n",
              "      display:flex;\n",
              "      gap: 12px;\n",
              "    }\n",
              "\n",
              "    .colab-df-convert {\n",
              "      background-color: #E8F0FE;\n",
              "      border: none;\n",
              "      border-radius: 50%;\n",
              "      cursor: pointer;\n",
              "      display: none;\n",
              "      fill: #1967D2;\n",
              "      height: 32px;\n",
              "      padding: 0 0 0 0;\n",
              "      width: 32px;\n",
              "    }\n",
              "\n",
              "    .colab-df-convert:hover {\n",
              "      background-color: #E2EBFA;\n",
              "      box-shadow: 0px 1px 2px rgba(60, 64, 67, 0.3), 0px 1px 3px 1px rgba(60, 64, 67, 0.15);\n",
              "      fill: #174EA6;\n",
              "    }\n",
              "\n",
              "    .colab-df-buttons div {\n",
              "      margin-bottom: 4px;\n",
              "    }\n",
              "\n",
              "    [theme=dark] .colab-df-convert {\n",
              "      background-color: #3B4455;\n",
              "      fill: #D2E3FC;\n",
              "    }\n",
              "\n",
              "    [theme=dark] .colab-df-convert:hover {\n",
              "      background-color: #434B5C;\n",
              "      box-shadow: 0px 1px 3px 1px rgba(0, 0, 0, 0.15);\n",
              "      filter: drop-shadow(0px 1px 2px rgba(0, 0, 0, 0.3));\n",
              "      fill: #FFFFFF;\n",
              "    }\n",
              "  </style>\n",
              "\n",
              "    <script>\n",
              "      const buttonEl =\n",
              "        document.querySelector('#df-e5ccc0cc-d612-4ff6-8e9c-4b1ec8885a00 button.colab-df-convert');\n",
              "      buttonEl.style.display =\n",
              "        google.colab.kernel.accessAllowed ? 'block' : 'none';\n",
              "\n",
              "      async function convertToInteractive(key) {\n",
              "        const element = document.querySelector('#df-e5ccc0cc-d612-4ff6-8e9c-4b1ec8885a00');\n",
              "        const dataTable =\n",
              "          await google.colab.kernel.invokeFunction('convertToInteractive',\n",
              "                                                    [key], {});\n",
              "        if (!dataTable) return;\n",
              "\n",
              "        const docLinkHtml = 'Like what you see? Visit the ' +\n",
              "          '<a target=\"_blank\" href=https://colab.research.google.com/notebooks/data_table.ipynb>data table notebook</a>'\n",
              "          + ' to learn more about interactive tables.';\n",
              "        element.innerHTML = '';\n",
              "        dataTable['output_type'] = 'display_data';\n",
              "        await google.colab.output.renderOutput(dataTable, element);\n",
              "        const docLink = document.createElement('div');\n",
              "        docLink.innerHTML = docLinkHtml;\n",
              "        element.appendChild(docLink);\n",
              "      }\n",
              "    </script>\n",
              "  </div>\n",
              "\n",
              "\n",
              "<div id=\"df-6883ce47-3831-43aa-bbd7-6e70bdd2059b\">\n",
              "  <button class=\"colab-df-quickchart\" onclick=\"quickchart('df-6883ce47-3831-43aa-bbd7-6e70bdd2059b')\"\n",
              "            title=\"Suggest charts.\"\n",
              "            style=\"display:none;\">\n",
              "\n",
              "<svg xmlns=\"http://www.w3.org/2000/svg\" height=\"24px\"viewBox=\"0 0 24 24\"\n",
              "     width=\"24px\">\n",
              "    <g>\n",
              "        <path d=\"M19 3H5c-1.1 0-2 .9-2 2v14c0 1.1.9 2 2 2h14c1.1 0 2-.9 2-2V5c0-1.1-.9-2-2-2zM9 17H7v-7h2v7zm4 0h-2V7h2v10zm4 0h-2v-4h2v4z\"/>\n",
              "    </g>\n",
              "</svg>\n",
              "  </button>\n",
              "\n",
              "<style>\n",
              "  .colab-df-quickchart {\n",
              "      --bg-color: #E8F0FE;\n",
              "      --fill-color: #1967D2;\n",
              "      --hover-bg-color: #E2EBFA;\n",
              "      --hover-fill-color: #174EA6;\n",
              "      --disabled-fill-color: #AAA;\n",
              "      --disabled-bg-color: #DDD;\n",
              "  }\n",
              "\n",
              "  [theme=dark] .colab-df-quickchart {\n",
              "      --bg-color: #3B4455;\n",
              "      --fill-color: #D2E3FC;\n",
              "      --hover-bg-color: #434B5C;\n",
              "      --hover-fill-color: #FFFFFF;\n",
              "      --disabled-bg-color: #3B4455;\n",
              "      --disabled-fill-color: #666;\n",
              "  }\n",
              "\n",
              "  .colab-df-quickchart {\n",
              "    background-color: var(--bg-color);\n",
              "    border: none;\n",
              "    border-radius: 50%;\n",
              "    cursor: pointer;\n",
              "    display: none;\n",
              "    fill: var(--fill-color);\n",
              "    height: 32px;\n",
              "    padding: 0;\n",
              "    width: 32px;\n",
              "  }\n",
              "\n",
              "  .colab-df-quickchart:hover {\n",
              "    background-color: var(--hover-bg-color);\n",
              "    box-shadow: 0 1px 2px rgba(60, 64, 67, 0.3), 0 1px 3px 1px rgba(60, 64, 67, 0.15);\n",
              "    fill: var(--button-hover-fill-color);\n",
              "  }\n",
              "\n",
              "  .colab-df-quickchart-complete:disabled,\n",
              "  .colab-df-quickchart-complete:disabled:hover {\n",
              "    background-color: var(--disabled-bg-color);\n",
              "    fill: var(--disabled-fill-color);\n",
              "    box-shadow: none;\n",
              "  }\n",
              "\n",
              "  .colab-df-spinner {\n",
              "    border: 2px solid var(--fill-color);\n",
              "    border-color: transparent;\n",
              "    border-bottom-color: var(--fill-color);\n",
              "    animation:\n",
              "      spin 1s steps(1) infinite;\n",
              "  }\n",
              "\n",
              "  @keyframes spin {\n",
              "    0% {\n",
              "      border-color: transparent;\n",
              "      border-bottom-color: var(--fill-color);\n",
              "      border-left-color: var(--fill-color);\n",
              "    }\n",
              "    20% {\n",
              "      border-color: transparent;\n",
              "      border-left-color: var(--fill-color);\n",
              "      border-top-color: var(--fill-color);\n",
              "    }\n",
              "    30% {\n",
              "      border-color: transparent;\n",
              "      border-left-color: var(--fill-color);\n",
              "      border-top-color: var(--fill-color);\n",
              "      border-right-color: var(--fill-color);\n",
              "    }\n",
              "    40% {\n",
              "      border-color: transparent;\n",
              "      border-right-color: var(--fill-color);\n",
              "      border-top-color: var(--fill-color);\n",
              "    }\n",
              "    60% {\n",
              "      border-color: transparent;\n",
              "      border-right-color: var(--fill-color);\n",
              "    }\n",
              "    80% {\n",
              "      border-color: transparent;\n",
              "      border-right-color: var(--fill-color);\n",
              "      border-bottom-color: var(--fill-color);\n",
              "    }\n",
              "    90% {\n",
              "      border-color: transparent;\n",
              "      border-bottom-color: var(--fill-color);\n",
              "    }\n",
              "  }\n",
              "</style>\n",
              "\n",
              "  <script>\n",
              "    async function quickchart(key) {\n",
              "      const quickchartButtonEl =\n",
              "        document.querySelector('#' + key + ' button');\n",
              "      quickchartButtonEl.disabled = true;  // To prevent multiple clicks.\n",
              "      quickchartButtonEl.classList.add('colab-df-spinner');\n",
              "      try {\n",
              "        const charts = await google.colab.kernel.invokeFunction(\n",
              "            'suggestCharts', [key], {});\n",
              "      } catch (error) {\n",
              "        console.error('Error during call to suggestCharts:', error);\n",
              "      }\n",
              "      quickchartButtonEl.classList.remove('colab-df-spinner');\n",
              "      quickchartButtonEl.classList.add('colab-df-quickchart-complete');\n",
              "    }\n",
              "    (() => {\n",
              "      let quickchartButtonEl =\n",
              "        document.querySelector('#df-6883ce47-3831-43aa-bbd7-6e70bdd2059b button');\n",
              "      quickchartButtonEl.style.display =\n",
              "        google.colab.kernel.accessAllowed ? 'block' : 'none';\n",
              "    })();\n",
              "  </script>\n",
              "</div>\n",
              "    </div>\n",
              "  </div>\n"
            ]
          },
          "metadata": {},
          "execution_count": 11
        }
      ]
    },
    {
      "cell_type": "code",
      "source": [
        "# 3° Verificando Vencimentos únicos\n",
        "data_vencimento=df['Data Vencimento'].unique()\n",
        "data_vencimento"
      ],
      "metadata": {
        "colab": {
          "base_uri": "https://localhost:8080/"
        },
        "id": "JK6F-xx2GsAe",
        "outputId": "8aa09f6f-ecae-45d5-b43a-751107153637"
      },
      "execution_count": null,
      "outputs": [
        {
          "output_type": "execute_result",
          "data": {
            "text/plain": [
              "array(['01/03/2011', '01/04/2021', '01/01/2031', '01/01/2010',\n",
              "       '01/01/2008', '17/01/2007', '18/06/2008', '18/03/2009',\n",
              "       '18/01/2006', '01/07/2006', '01/01/2006', '01/10/2005',\n",
              "       '01/10/2006', '01/01/2007', '01/07/2007', '01/04/2006',\n",
              "       '15/08/2024', '15/05/2045', '15/05/2015', '15/05/2009',\n",
              "       '15/05/2007', '15/08/2006', '01/12/2005', '01/12/2006',\n",
              "       '01/04/2008', '01/07/2017', '01/04/2007', '15/08/2008',\n",
              "       '01/07/2005', '01/04/2005', '16/02/2005', '04/01/2005',\n",
              "       '01/07/2008', '01/01/2012', '17/03/2010', '15/05/2035',\n",
              "       '15/05/2055', '15/08/2032', '15/05/2029', '15/08/2026',\n",
              "       '01/01/2025', '01/01/2029', '01/01/2033', '01/01/2027',\n",
              "       '15/12/2064', '15/12/2059', '15/12/2054', '15/12/2079',\n",
              "       '15/12/2049', '15/12/2069', '15/12/2084', '15/12/2074',\n",
              "       '15/12/2040', '15/12/2038', '15/12/2030', '15/12/2036',\n",
              "       '15/12/2037', '15/12/2031', '15/12/2043', '15/12/2042',\n",
              "       '15/12/2039', '15/12/2041', '15/12/2035', '15/12/2032',\n",
              "       '15/12/2034', '15/12/2045', '15/12/2033', '15/12/2044',\n",
              "       '01/03/2027', '01/03/2025', '01/03/2026', '01/03/2029',\n",
              "       '01/09/2024', '01/07/2024', '01/01/2026', '15/08/2050',\n",
              "       '15/08/2030', '15/08/2040', '01/03/2023', '01/01/2023',\n",
              "       '01/01/2022', '01/03/2021', '01/01/2021', '15/08/2020',\n",
              "       '01/01/2020', '15/05/2019', '01/01/2019', '01/01/2018',\n",
              "       '15/05/2017', '01/01/2017', '07/03/2017', '01/01/2016',\n",
              "       '07/03/2015', '01/01/2015', '07/03/2014', '01/01/2014',\n",
              "       '15/05/2013', '01/01/2013', '07/03/2013', '15/08/2012',\n",
              "       '07/03/2012', '15/05/2011', '16/03/2011', '01/07/2011',\n",
              "       '01/01/2011', '01/07/2010', '15/08/2010', '01/10/2009',\n",
              "       '01/07/2009', '01/04/2009', '01/01/2009', '01/10/2008',\n",
              "       '08/03/2013', '01/10/2007'], dtype=object)"
            ]
          },
          "metadata": {},
          "execution_count": 12
        }
      ]
    },
    {
      "cell_type": "code",
      "source": [
        "agrupar_titulo = df.groupby(['Tipo Titulo','Data Vencimento','Data Base','Taxa Compra Manha']).size()\n",
        "agrupar_titulo"
      ],
      "metadata": {
        "colab": {
          "base_uri": "https://localhost:8080/"
        },
        "id": "o_3KWXtlGsCq",
        "outputId": "10db8276-51d7-42f0-a61c-62791cda2efc"
      },
      "execution_count": null,
      "outputs": [
        {
          "output_type": "execute_result",
          "data": {
            "text/plain": [
              "Tipo Titulo     Data Vencimento  Data Base   Taxa Compra Manha\n",
              "Tesouro Educa+  15/12/2030       01/08/2023  5,06                 1\n",
              "                                 01/09/2023  5,23                 1\n",
              "                                 02/08/2023  5,05                 1\n",
              "                                 02/10/2023  5,60                 1\n",
              "                                 03/08/2023  5,02                 1\n",
              "                                                                 ..\n",
              "Tesouro Selic   18/06/2008       31/10/2005  0,23                 1\n",
              "                                 31/10/2006  -0,01                1\n",
              "                                 31/10/2007  -0,02                1\n",
              "                                 31/12/2004  0,33                 1\n",
              "                                 31/12/2007  -0,02                1\n",
              "Length: 134438, dtype: int64"
            ]
          },
          "metadata": {},
          "execution_count": 13
        }
      ]
    },
    {
      "cell_type": "code",
      "source": [
        "#Selecionar título público a ser analisado\n",
        "select_titulo= ['Tesouro Prefixado']\n",
        "tp =agrupar_titulo[select_titulo]\n",
        "tp"
      ],
      "metadata": {
        "colab": {
          "base_uri": "https://localhost:8080/"
        },
        "id": "NKy5ZIs4GsI3",
        "outputId": "92b59dd1-2975-4051-e656-fdf513653b6d"
      },
      "execution_count": null,
      "outputs": [
        {
          "output_type": "execute_result",
          "data": {
            "text/plain": [
              "Tipo Titulo        Data Vencimento  Data Base   Taxa Compra Manha\n",
              "Tesouro Prefixado  01/01/2006       01/02/2005  19,28                1\n",
              "                                    01/03/2005  18,95                1\n",
              "                                    01/04/2005  19,58                1\n",
              "                                    01/06/2005  19,67                1\n",
              "                                    01/07/2005  19,34                1\n",
              "                                                                    ..\n",
              "                   01/10/2009       31/10/2008  15,37                1\n",
              "                                    31/12/2007  12,72                1\n",
              "                                    31/12/2008  12,37                1\n",
              "                   04/01/2005       03/01/2005  17,74                1\n",
              "                                    31/12/2004  17,74                1\n",
              "Length: 24207, dtype: int64"
            ]
          },
          "metadata": {},
          "execution_count": 35
        }
      ]
    },
    {
      "cell_type": "code",
      "source": [
        "select_data = tp[:,'01/01/2026']\n",
        "select_data\n"
      ],
      "metadata": {
        "colab": {
          "base_uri": "https://localhost:8080/"
        },
        "id": "6cxHEvKHORqn",
        "outputId": "55a99e9e-16e1-4191-ebb8-1f73607ed520"
      },
      "execution_count": 65,
      "outputs": [
        {
          "output_type": "execute_result",
          "data": {
            "text/plain": [
              "Tipo Titulo        Data Base   Taxa Compra Manha\n",
              "Tesouro Prefixado  01/02/2021  6,90                 1\n",
              "                   01/02/2022  11,15                1\n",
              "                   01/02/2023  12,88                1\n",
              "                   01/03/2021  7,91                 1\n",
              "                   01/03/2023  12,80                1\n",
              "                                                   ..\n",
              "                   31/08/2020  6,53                 1\n",
              "                   31/08/2021  9,73                 1\n",
              "                   31/08/2022  12,06                1\n",
              "                   31/08/2023  10,08                1\n",
              "                   31/10/2022  11,90                1\n",
              "Length: 908, dtype: int64"
            ]
          },
          "metadata": {},
          "execution_count": 65
        }
      ]
    },
    {
      "cell_type": "code",
      "source": [
        "#grafico curva\n",
        "\n",
        "select_data.plot()\n"
      ],
      "metadata": {
        "colab": {
          "base_uri": "https://localhost:8080/",
          "height": 466
        },
        "id": "0eXctXCUMpNm",
        "outputId": "94c17e37-031f-4e98-acb7-bc5cb7408d20"
      },
      "execution_count": 66,
      "outputs": [
        {
          "output_type": "execute_result",
          "data": {
            "text/plain": [
              "<Axes: xlabel='Tipo Titulo,Data Base,Taxa Compra Manha'>"
            ]
          },
          "metadata": {},
          "execution_count": 66
        },
        {
          "output_type": "display_data",
          "data": {
            "text/plain": [
              "<Figure size 640x480 with 1 Axes>"
            ],
            "image/png": "[encoded data removed]"
          },
          "metadata": {}
        }
      ]
    },
    {
      "cell_type": "code",
      "source": [
        "Q1 = np.percentile(tp['Tesouro Prefixado'],[25,50,75])\n",
        "Q1\n",
        "#print('Q2 =',np.quantile('Tesouro Educa+', .50))\n",
        "#print('Q3 =',np.quantile('Tesouro Educa+', .75))\n",
        "#print('Q4 =',np.quantile('Tesouro Educa+', .100))"
      ],
      "metadata": {
        "colab": {
          "base_uri": "https://localhost:8080/"
        },
        "id": "lHjpc7zaGsLp",
        "outputId": "fcdc360b-d339-4379-e143-18b313c8421a"
      },
      "execution_count": null,
      "outputs": [
        {
          "output_type": "execute_result",
          "data": {
            "text/plain": [
              "array([1., 1., 1.])"
            ]
          },
          "metadata": {},
          "execution_count": 16
        }
      ]
    }
  ]
}