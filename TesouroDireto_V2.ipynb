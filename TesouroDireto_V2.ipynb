{
 "cells": [
  {
   "cell_type": "markdown",
   "id": "72a6acc9",
   "metadata": {},
   "source": [
    "# Bibliotecas"
   ]
  },
  {
   "cell_type": "code",
   "execution_count": 68,
   "id": "eb4b5ab2",
   "metadata": {
    "tags": []
   },
   "outputs": [
    {
     "name": "stdout",
     "output_type": "stream",
     "text": [
      "Requirement already satisfied: seaborn in c:\\users\\prev\\appdata\\roaming\\jupyterlab-desktop\\jlab_server\\lib\\site-packages (0.12.2)\n",
      "Requirement already satisfied: numpy!=1.24.0,>=1.17 in c:\\users\\prev\\appdata\\roaming\\jupyterlab-desktop\\jlab_server\\lib\\site-packages (from seaborn) (1.23.5)\n",
      "Requirement already satisfied: pandas>=0.25 in c:\\users\\prev\\appdata\\roaming\\jupyterlab-desktop\\jlab_server\\lib\\site-packages (from seaborn) (1.5.2)\n",
      "Requirement already satisfied: matplotlib!=3.6.1,>=3.1 in c:\\users\\prev\\appdata\\roaming\\jupyterlab-desktop\\jlab_server\\lib\\site-packages (from seaborn) (3.6.2)\n",
      "Requirement already satisfied: fonttools>=4.22.0 in c:\\users\\prev\\appdata\\roaming\\jupyterlab-desktop\\jlab_server\\lib\\site-packages (from matplotlib!=3.6.1,>=3.1->seaborn) (4.38.0)\n",
      "Requirement already satisfied: kiwisolver>=1.0.1 in c:\\users\\prev\\appdata\\roaming\\jupyterlab-desktop\\jlab_server\\lib\\site-packages (from matplotlib!=3.6.1,>=3.1->seaborn) (1.4.4)\n",
      "Requirement already satisfied: pillow>=6.2.0 in c:\\users\\prev\\appdata\\roaming\\jupyterlab-desktop\\jlab_server\\lib\\site-packages (from matplotlib!=3.6.1,>=3.1->seaborn) (9.2.0)\n",
      "Requirement already satisfied: pyparsing>=2.2.1 in c:\\users\\prev\\appdata\\roaming\\jupyterlab-desktop\\jlab_server\\lib\\site-packages (from matplotlib!=3.6.1,>=3.1->seaborn) (3.0.9)\n",
      "Requirement already satisfied: cycler>=0.10 in c:\\users\\prev\\appdata\\roaming\\jupyterlab-desktop\\jlab_server\\lib\\site-packages (from matplotlib!=3.6.1,>=3.1->seaborn) (0.11.0)\n",
      "Requirement already satisfied: contourpy>=1.0.1 in c:\\users\\prev\\appdata\\roaming\\jupyterlab-desktop\\jlab_server\\lib\\site-packages (from matplotlib!=3.6.1,>=3.1->seaborn) (1.0.6)\n",
      "Requirement already satisfied: python-dateutil>=2.7 in c:\\users\\prev\\appdata\\roaming\\jupyterlab-desktop\\jlab_server\\lib\\site-packages (from matplotlib!=3.6.1,>=3.1->seaborn) (2.8.2)\n",
      "Requirement already satisfied: packaging>=20.0 in c:\\users\\prev\\appdata\\roaming\\jupyterlab-desktop\\jlab_server\\lib\\site-packages (from matplotlib!=3.6.1,>=3.1->seaborn) (22.0)\n",
      "Requirement already satisfied: pytz>=2020.1 in c:\\users\\prev\\appdata\\roaming\\jupyterlab-desktop\\jlab_server\\lib\\site-packages (from pandas>=0.25->seaborn) (2022.6)\n",
      "Requirement already satisfied: six>=1.5 in c:\\users\\prev\\appdata\\roaming\\jupyterlab-desktop\\jlab_server\\lib\\site-packages (from python-dateutil>=2.7->matplotlib!=3.6.1,>=3.1->seaborn) (1.16.0)\n",
      "Requirement already satisfied: matplotlib in c:\\users\\prev\\appdata\\roaming\\jupyterlab-desktop\\jlab_server\\lib\\site-packages (3.6.2)\n",
      "Requirement already satisfied: kiwisolver>=1.0.1 in c:\\users\\prev\\appdata\\roaming\\jupyterlab-desktop\\jlab_server\\lib\\site-packages (from matplotlib) (1.4.4)\n",
      "Requirement already satisfied: cycler>=0.10 in c:\\users\\prev\\appdata\\roaming\\jupyterlab-desktop\\jlab_server\\lib\\site-packages (from matplotlib) (0.11.0)\n",
      "Requirement already satisfied: fonttools>=4.22.0 in c:\\users\\prev\\appdata\\roaming\\jupyterlab-desktop\\jlab_server\\lib\\site-packages (from matplotlib) (4.38.0)\n",
      "Requirement already satisfied: numpy>=1.19 in c:\\users\\prev\\appdata\\roaming\\jupyterlab-desktop\\jlab_server\\lib\\site-packages (from matplotlib) (1.23.5)\n",
      "Requirement already satisfied: packaging>=20.0 in c:\\users\\prev\\appdata\\roaming\\jupyterlab-desktop\\jlab_server\\lib\\site-packages (from matplotlib) (22.0)\n",
      "Requirement already satisfied: pyparsing>=2.2.1 in c:\\users\\prev\\appdata\\roaming\\jupyterlab-desktop\\jlab_server\\lib\\site-packages (from matplotlib) (3.0.9)\n",
      "Requirement already satisfied: contourpy>=1.0.1 in c:\\users\\prev\\appdata\\roaming\\jupyterlab-desktop\\jlab_server\\lib\\site-packages (from matplotlib) (1.0.6)\n",
      "Requirement already satisfied: pillow>=6.2.0 in c:\\users\\prev\\appdata\\roaming\\jupyterlab-desktop\\jlab_server\\lib\\site-packages (from matplotlib) (9.2.0)\n",
      "Requirement already satisfied: python-dateutil>=2.7 in c:\\users\\prev\\appdata\\roaming\\jupyterlab-desktop\\jlab_server\\lib\\site-packages (from matplotlib) (2.8.2)\n",
      "Requirement already satisfied: six>=1.5 in c:\\users\\prev\\appdata\\roaming\\jupyterlab-desktop\\jlab_server\\lib\\site-packages (from python-dateutil>=2.7->matplotlib) (1.16.0)\n"
     ]
    }
   ],
   "source": [
    "import pandas as pd\n",
    "import numpy as np\n",
    "!pip install seaborn\n",
    "import seaborn as sb\n",
    "!pip install matplotlib\n",
    "import matplotlib.pyplot as plot"
   ]
  },
  {
   "cell_type": "markdown",
   "id": "1c188da3",
   "metadata": {},
   "source": [
    "# API -Tesouro Transparente"
   ]
  },
  {
   "cell_type": "code",
   "execution_count": 35,
   "id": "b781d9de",
   "metadata": {},
   "outputs": [],
   "source": [
    "url = 'https://www.tesourotransparente.gov.br/ckan/dataset/df56aa42-484a-4a59-8184-7676580c81e3/resource/796d2059-14e9-44e3-80c9-2d9e30b405c1/download/PrecoTaxaTesouroDireto.csv'"
   ]
  },
  {
   "cell_type": "markdown",
   "id": "afdc2e95",
   "metadata": {},
   "source": [
    "# Organizando o Dataframe "
   ]
  },
  {
   "cell_type": "code",
   "execution_count": 36,
   "id": "1459c303",
   "metadata": {},
   "outputs": [
    {
     "data": {
      "text/html": [
       "<div>\n",
       "<style scoped>\n",
       "    .dataframe tbody tr th:only-of-type {\n",
       "        vertical-align: middle;\n",
       "    }\n",
       "\n",
       "    .dataframe tbody tr th {\n",
       "        vertical-align: top;\n",
       "    }\n",
       "\n",
       "    .dataframe thead th {\n",
       "        text-align: right;\n",
       "    }\n",
       "</style>\n",
       "<table border=\"1\" class=\"dataframe\">\n",
       "  <thead>\n",
       "    <tr style=\"text-align: right;\">\n",
       "      <th></th>\n",
       "      <th>Tipo Titulo</th>\n",
       "      <th>Data Vencimento</th>\n",
       "      <th>Data Base</th>\n",
       "      <th>Taxa Compra Manha</th>\n",
       "      <th>Taxa Venda Manha</th>\n",
       "      <th>PU Compra Manha</th>\n",
       "      <th>PU Venda Manha</th>\n",
       "      <th>PU Base Manha</th>\n",
       "    </tr>\n",
       "  </thead>\n",
       "  <tbody>\n",
       "    <tr>\n",
       "      <th>134115</th>\n",
       "      <td>Tesouro Prefixado</td>\n",
       "      <td>01/01/2006</td>\n",
       "      <td>23/02/2005</td>\n",
       "      <td>19,21</td>\n",
       "      <td>19,27</td>\n",
       "      <td>860,77</td>\n",
       "      <td>860,41</td>\n",
       "      <td>859,80</td>\n",
       "    </tr>\n",
       "    <tr>\n",
       "      <th>134116</th>\n",
       "      <td>Tesouro IPCA+ com Juros Semestrais</td>\n",
       "      <td>15/05/2015</td>\n",
       "      <td>23/02/2005</td>\n",
       "      <td>8,82</td>\n",
       "      <td>8,90</td>\n",
       "      <td>1251,75</td>\n",
       "      <td>1245,02</td>\n",
       "      <td>1244,30</td>\n",
       "    </tr>\n",
       "    <tr>\n",
       "      <th>134117</th>\n",
       "      <td>Tesouro IPCA+ com Juros Semestrais</td>\n",
       "      <td>15/08/2024</td>\n",
       "      <td>23/02/2005</td>\n",
       "      <td>8,85</td>\n",
       "      <td>8,93</td>\n",
       "      <td>1119,22</td>\n",
       "      <td>1110,65</td>\n",
       "      <td>1110,01</td>\n",
       "    </tr>\n",
       "    <tr>\n",
       "      <th>134118</th>\n",
       "      <td>Tesouro IPCA+ com Juros Semestrais</td>\n",
       "      <td>15/05/2045</td>\n",
       "      <td>23/02/2005</td>\n",
       "      <td>9,05</td>\n",
       "      <td>9,15</td>\n",
       "      <td>1043,53</td>\n",
       "      <td>1032,56</td>\n",
       "      <td>1031,96</td>\n",
       "    </tr>\n",
       "    <tr>\n",
       "      <th>134119</th>\n",
       "      <td>Tesouro IPCA+ com Juros Semestrais</td>\n",
       "      <td>15/05/2009</td>\n",
       "      <td>23/02/2005</td>\n",
       "      <td>9,19</td>\n",
       "      <td>9,23</td>\n",
       "      <td>1365,48</td>\n",
       "      <td>1363,64</td>\n",
       "      <td>1362,84</td>\n",
       "    </tr>\n",
       "  </tbody>\n",
       "</table>\n",
       "</div>"
      ],
      "text/plain": [
       "                               Tipo Titulo Data Vencimento   Data Base  \\\n",
       "134115                   Tesouro Prefixado      01/01/2006  23/02/2005   \n",
       "134116  Tesouro IPCA+ com Juros Semestrais      15/05/2015  23/02/2005   \n",
       "134117  Tesouro IPCA+ com Juros Semestrais      15/08/2024  23/02/2005   \n",
       "134118  Tesouro IPCA+ com Juros Semestrais      15/05/2045  23/02/2005   \n",
       "134119  Tesouro IPCA+ com Juros Semestrais      15/05/2009  23/02/2005   \n",
       "\n",
       "       Taxa Compra Manha Taxa Venda Manha PU Compra Manha PU Venda Manha  \\\n",
       "134115             19,21            19,27          860,77         860,41   \n",
       "134116              8,82             8,90         1251,75        1245,02   \n",
       "134117              8,85             8,93         1119,22        1110,65   \n",
       "134118              9,05             9,15         1043,53        1032,56   \n",
       "134119              9,19             9,23         1365,48        1363,64   \n",
       "\n",
       "       PU Base Manha  \n",
       "134115        859,80  \n",
       "134116       1244,30  \n",
       "134117       1110,01  \n",
       "134118       1031,96  \n",
       "134119       1362,84  "
      ]
     },
     "execution_count": 36,
     "metadata": {},
     "output_type": "execute_result"
    }
   ],
   "source": [
    "df = pd.read_csv(url, sep =';')\n",
    "df.tail()"
   ]
  },
  {
   "cell_type": "markdown",
   "id": "8260d67e",
   "metadata": {},
   "source": [
    "# Análise Exploratória do Dataframe"
   ]
  },
  {
   "cell_type": "code",
   "execution_count": 37,
   "id": "d194761a",
   "metadata": {},
   "outputs": [
    {
     "data": {
      "text/plain": [
       "(134120, 8)"
      ]
     },
     "execution_count": 37,
     "metadata": {},
     "output_type": "execute_result"
    }
   ],
   "source": [
    "#Tamanho do corpo(linhas e colunas)\n",
    "df.shape"
   ]
  },
  {
   "cell_type": "code",
   "execution_count": 38,
   "id": "27b82367",
   "metadata": {},
   "outputs": [
    {
     "data": {
      "text/plain": [
       "Tipo Titulo          0\n",
       "Data Vencimento      0\n",
       "Data Base            0\n",
       "Taxa Compra Manha    0\n",
       "Taxa Venda Manha     0\n",
       "PU Compra Manha      0\n",
       "PU Venda Manha       0\n",
       "PU Base Manha        0\n",
       "dtype: int64"
      ]
     },
     "execution_count": 38,
     "metadata": {},
     "output_type": "execute_result"
    }
   ],
   "source": [
    "#Verificando valores faltantes\n",
    "df.isnull().sum()"
   ]
  },
  {
   "cell_type": "code",
   "execution_count": 58,
   "id": "d3926e60",
   "metadata": {},
   "outputs": [
    {
     "data": {
      "text/plain": [
       "array(['Tesouro IPCA+ com Juros Semestrais', 'Tesouro IPCA+',\n",
       "       'Tesouro IGPM+ com Juros Semestrais',\n",
       "       'Tesouro Prefixado com Juros Semestrais', 'Tesouro Selic',\n",
       "       'Tesouro Prefixado', 'Tesouro Renda+ Aposentadoria Extra',\n",
       "       'Tesouro Educa+'], dtype=object)"
      ]
     },
     "execution_count": 58,
     "metadata": {},
     "output_type": "execute_result"
    }
   ],
   "source": [
    "# 1° Verificando Títulos únicos\n",
    "titulo = df['Tipo Titulo'].unique()\n",
    "titulo"
   ]
  },
  {
   "cell_type": "code",
   "execution_count": 65,
   "id": "5a670956",
   "metadata": {},
   "outputs": [
    {
     "data": {
      "text/plain": [
       "array(['29/07/2009', '28/07/2009', '27/07/2009', ..., '28/02/2005',\n",
       "       '25/02/2005', '24/02/2005'], dtype=object)"
      ]
     },
     "execution_count": 65,
     "metadata": {},
     "output_type": "execute_result"
    }
   ],
   "source": [
    "# 2° Verificando Data base únicos\n",
    "data_base = df['Data Base'].unique()\n",
    "data_base"
   ]
  },
  {
   "cell_type": "code",
   "execution_count": 44,
   "id": "7a75eb1c-e534-4640-845b-0a7b5e313359",
   "metadata": {},
   "outputs": [
    {
     "data": {
      "text/html": [
       "<div>\n",
       "<style scoped>\n",
       "    .dataframe tbody tr th:only-of-type {\n",
       "        vertical-align: middle;\n",
       "    }\n",
       "\n",
       "    .dataframe tbody tr th {\n",
       "        vertical-align: top;\n",
       "    }\n",
       "\n",
       "    .dataframe thead th {\n",
       "        text-align: right;\n",
       "    }\n",
       "</style>\n",
       "<table border=\"1\" class=\"dataframe\">\n",
       "  <thead>\n",
       "    <tr style=\"text-align: right;\">\n",
       "      <th></th>\n",
       "      <th>Tipo Titulo</th>\n",
       "      <th>Data Vencimento</th>\n",
       "      <th>Data Base</th>\n",
       "      <th>Taxa Compra Manha</th>\n",
       "      <th>Taxa Venda Manha</th>\n",
       "      <th>PU Compra Manha</th>\n",
       "      <th>PU Venda Manha</th>\n",
       "      <th>PU Base Manha</th>\n",
       "    </tr>\n",
       "  </thead>\n",
       "  <tbody>\n",
       "    <tr>\n",
       "      <th>0</th>\n",
       "      <td>Tesouro IPCA+ com Juros Semestrais</td>\n",
       "      <td>15/08/2020</td>\n",
       "      <td>29/07/2009</td>\n",
       "      <td>6,49</td>\n",
       "      <td>6,57</td>\n",
       "      <td>1823,60</td>\n",
       "      <td>1812,73</td>\n",
       "      <td>1812,11</td>\n",
       "    </tr>\n",
       "    <tr>\n",
       "      <th>1</th>\n",
       "      <td>Tesouro IPCA+ com Juros Semestrais</td>\n",
       "      <td>15/05/2017</td>\n",
       "      <td>29/07/2009</td>\n",
       "      <td>6,57</td>\n",
       "      <td>6,63</td>\n",
       "      <td>1803,29</td>\n",
       "      <td>1796,98</td>\n",
       "      <td>1796,36</td>\n",
       "    </tr>\n",
       "    <tr>\n",
       "      <th>2</th>\n",
       "      <td>Tesouro IPCA+ com Juros Semestrais</td>\n",
       "      <td>15/05/2015</td>\n",
       "      <td>29/07/2009</td>\n",
       "      <td>6,58</td>\n",
       "      <td>6,64</td>\n",
       "      <td>1814,60</td>\n",
       "      <td>1809,60</td>\n",
       "      <td>1808,98</td>\n",
       "    </tr>\n",
       "    <tr>\n",
       "      <th>3</th>\n",
       "      <td>Tesouro IPCA+ com Juros Semestrais</td>\n",
       "      <td>15/05/2011</td>\n",
       "      <td>29/07/2009</td>\n",
       "      <td>5,58</td>\n",
       "      <td>5,60</td>\n",
       "      <td>1876,22</td>\n",
       "      <td>1875,62</td>\n",
       "      <td>1875,05</td>\n",
       "    </tr>\n",
       "    <tr>\n",
       "      <th>4</th>\n",
       "      <td>Tesouro IPCA+ com Juros Semestrais</td>\n",
       "      <td>15/08/2012</td>\n",
       "      <td>29/07/2009</td>\n",
       "      <td>6,30</td>\n",
       "      <td>6,34</td>\n",
       "      <td>1875,46</td>\n",
       "      <td>1873,52</td>\n",
       "      <td>1872,89</td>\n",
       "    </tr>\n",
       "  </tbody>\n",
       "</table>\n",
       "</div>"
      ],
      "text/plain": [
       "                          Tipo Titulo Data Vencimento   Data Base  \\\n",
       "0  Tesouro IPCA+ com Juros Semestrais      15/08/2020  29/07/2009   \n",
       "1  Tesouro IPCA+ com Juros Semestrais      15/05/2017  29/07/2009   \n",
       "2  Tesouro IPCA+ com Juros Semestrais      15/05/2015  29/07/2009   \n",
       "3  Tesouro IPCA+ com Juros Semestrais      15/05/2011  29/07/2009   \n",
       "4  Tesouro IPCA+ com Juros Semestrais      15/08/2012  29/07/2009   \n",
       "\n",
       "  Taxa Compra Manha Taxa Venda Manha PU Compra Manha PU Venda Manha  \\\n",
       "0              6,49             6,57         1823,60        1812,73   \n",
       "1              6,57             6,63         1803,29        1796,98   \n",
       "2              6,58             6,64         1814,60        1809,60   \n",
       "3              5,58             5,60         1876,22        1875,62   \n",
       "4              6,30             6,34         1875,46        1873,52   \n",
       "\n",
       "  PU Base Manha  \n",
       "0       1812,11  \n",
       "1       1796,36  \n",
       "2       1808,98  \n",
       "3       1875,05  \n",
       "4       1872,89  "
      ]
     },
     "execution_count": 44,
     "metadata": {},
     "output_type": "execute_result"
    }
   ],
   "source": [
    "df.head()"
   ]
  },
  {
   "cell_type": "code",
   "execution_count": 46,
   "id": "6ace2658-bbba-432b-9c70-c15d0f0fa71d",
   "metadata": {
    "tags": []
   },
   "outputs": [
    {
     "data": {
      "text/plain": [
       "array(['15/08/2020', '15/05/2017', '15/05/2015', '15/05/2011',\n",
       "       '15/08/2012', '15/05/2013', '15/08/2010', '15/08/2024',\n",
       "       '01/04/2021', '01/03/2011', '01/07/2017', '01/01/2031',\n",
       "       '01/01/2013', '01/01/2017', '01/01/2014', '01/01/2012',\n",
       "       '01/01/2010', '01/07/2010', '01/01/2011', '17/03/2010',\n",
       "       '16/03/2011', '07/03/2012', '07/03/2013', '07/03/2014',\n",
       "       '01/10/2009', '15/05/2035', '15/05/2045', '01/07/2008',\n",
       "       '15/05/2009', '15/08/2008', '01/04/2008', '18/03/2009',\n",
       "       '18/06/2008', '08/03/2013', '01/10/2008', '01/01/2009',\n",
       "       '01/07/2009', '01/04/2009', '01/01/2008', '01/10/2007',\n",
       "       '01/07/2007', '15/05/2007', '07/03/2015', '01/01/2021',\n",
       "       '01/07/2011', '01/12/2006', '17/01/2007', '01/10/2006',\n",
       "       '01/04/2007', '01/01/2007', '15/08/2006', '01/07/2006',\n",
       "       '18/01/2006', '01/01/2006', '01/04/2006', '01/12/2005',\n",
       "       '01/10/2005', '15/05/2055', '15/08/2032', '15/08/2026',\n",
       "       '15/08/2040', '15/08/2030', '15/05/2029', '01/01/2033',\n",
       "       '01/01/2027', '01/01/2025', '01/01/2029', '15/12/2054',\n",
       "       '15/12/2074', '15/12/2084', '15/12/2079', '15/12/2064',\n",
       "       '15/12/2059', '15/12/2049', '15/12/2069', '15/12/2031',\n",
       "       '15/12/2030', '15/12/2043', '15/12/2042', '15/12/2039',\n",
       "       '15/12/2034', '15/12/2035', '15/12/2041', '15/12/2032',\n",
       "       '15/12/2033', '15/12/2045', '15/12/2040', '15/12/2037',\n",
       "       '15/12/2038', '15/12/2036', '15/12/2044', '01/09/2024',\n",
       "       '01/03/2027', '01/03/2029', '01/03/2025', '01/03/2026',\n",
       "       '01/07/2024', '01/01/2026', '15/08/2050', '01/01/2023',\n",
       "       '01/03/2023', '01/01/2022', '01/03/2021', '01/01/2020',\n",
       "       '15/05/2019', '01/01/2019', '01/01/2018', '07/03/2017',\n",
       "       '01/01/2016', '01/01/2015', '01/07/2005', '01/04/2005',\n",
       "       '16/02/2005', '04/01/2005'], dtype=object)"
      ]
     },
     "execution_count": 46,
     "metadata": {},
     "output_type": "execute_result"
    }
   ],
   "source": [
    "# 3° Verificando Vencimentos únicos\n",
    "data_vencimento=df['Data Vencimento'].unique()\n",
    "data_vencimento"
   ]
  },
  {
   "cell_type": "code",
   "execution_count": 42,
   "id": "3cba388d",
   "metadata": {
    "scrolled": true
   },
   "outputs": [
    {
     "data": {
      "text/plain": [
       "Tipo Titulo     Data Vencimento  Data Base   Taxa Compra Manha\n",
       "Tesouro Educa+  15/12/2030       01/08/2023  5,06                 1\n",
       "                                 01/09/2023  5,23                 1\n",
       "                                 02/08/2023  5,05                 1\n",
       "                                 03/08/2023  5,02                 1\n",
       "                                 04/08/2023  5,02                 1\n",
       "                                                                 ..\n",
       "Tesouro Selic   18/06/2008       31/10/2005  0,23                 1\n",
       "                                 31/10/2006  -0,01                1\n",
       "                                 31/10/2007  -0,02                1\n",
       "                                 31/12/2004  0,33                 1\n",
       "                                 31/12/2007  -0,02                1\n",
       "Length: 134120, dtype: int64"
      ]
     },
     "execution_count": 42,
     "metadata": {},
     "output_type": "execute_result"
    }
   ],
   "source": [
    "agrupar_taxas = df.groupby(['Tipo Titulo','Data Vencimento','Data Base','Taxa Compra Manha']).size()\n",
    "agrupar_taxas"
   ]
  },
  {
   "cell_type": "code",
   "execution_count": 59,
   "id": "60ec0830-9b76-4a8c-a09b-c7defcf444b6",
   "metadata": {},
   "outputs": [
    {
     "data": {
      "text/plain": [
       "Tipo Titulo        Data Vencimento  Data Base   Taxa Compra Manha\n",
       "Tesouro Prefixado  01/01/2006       01/02/2005  19,28                1\n",
       "                                    01/03/2005  18,95                1\n",
       "                                    01/04/2005  19,58                1\n",
       "                                    01/06/2005  19,67                1\n",
       "                                    01/07/2005  19,34                1\n",
       "                                                                    ..\n",
       "                   01/10/2009       31/10/2008  15,37                1\n",
       "                                    31/12/2007  12,72                1\n",
       "                                    31/12/2008  12,37                1\n",
       "                   04/01/2005       03/01/2005  17,74                1\n",
       "                                    31/12/2004  17,74                1\n",
       "Length: 24183, dtype: int64"
      ]
     },
     "execution_count": 59,
     "metadata": {},
     "output_type": "execute_result"
    }
   ],
   "source": [
    "#Selecionar título público\n",
    "titulo = ['Tesouro Prefixado']\n",
    "tp =agrupar_taxas[titulo]\n",
    "tp"
   ]
  },
  {
   "cell_type": "markdown",
   "id": "98cee249-77bc-4eba-99a2-bdc8d0672ec3",
   "metadata": {},
   "source": [
    "## Criar intersecção de datas...parei aqui"
   ]
  },
  {
   "cell_type": "code",
   "execution_count": null,
   "id": "48ef8ef1-4e2e-495f-ae5b-e742831558f0",
   "metadata": {},
   "outputs": [],
   "source": [
    "date_sr = pd.to_datetime(pd.data_vencimento"
   ]
  },
  {
   "cell_type": "code",
   "execution_count": 72,
   "id": "9fe603d6-0ba6-4e4a-913c-8d4025963cc6",
   "metadata": {},
   "outputs": [
    {
     "ename": "TypeError",
     "evalue": "'>=' not supported between instances of 'list' and 'str'",
     "output_type": "error",
     "traceback": [
      "\u001b[1;31m---------------------------------------------------------------------------\u001b[0m",
      "\u001b[1;31mTypeError\u001b[0m                                 Traceback (most recent call last)",
      "Cell \u001b[1;32mIn[72], line 3\u001b[0m\n\u001b[0;32m      1\u001b[0m inicio \u001b[38;5;241m=\u001b[39m \u001b[38;5;124m'\u001b[39m\u001b[38;5;124m05-09-2000\u001b[39m\u001b[38;5;124m'\u001b[39m\n\u001b[0;32m      2\u001b[0m fim \u001b[38;5;241m=\u001b[39m \u001b[38;5;124m'\u001b[39m\u001b[38;5;124m05-09-2023\u001b[39m\u001b[38;5;124m'\u001b[39m\n\u001b[1;32m----> 3\u001b[0m intervalo \u001b[38;5;241m=\u001b[39m df\u001b[38;5;241m.\u001b[39mloc[df(\u001b[43m[\u001b[49m\u001b[38;5;124;43m'\u001b[39;49m\u001b[38;5;124;43mdata_base\u001b[39;49m\u001b[38;5;124;43m'\u001b[39;49m\u001b[43m]\u001b[49m\u001b[43m \u001b[49m\u001b[38;5;241;43m>\u001b[39;49m\u001b[38;5;241;43m=\u001b[39;49m\u001b[43m \u001b[49m\u001b[43minicio\u001b[49m) \u001b[38;5;241m&\u001b[39m (df[\u001b[38;5;124m'\u001b[39m\u001b[38;5;124mdata_base\u001b[39m\u001b[38;5;124m'\u001b[39m] \u001b[38;5;241m<\u001b[39m\u001b[38;5;241m=\u001b[39m fim)]\n\u001b[0;32m      4\u001b[0m intervalo\n",
      "\u001b[1;31mTypeError\u001b[0m: '>=' not supported between instances of 'list' and 'str'"
     ]
    }
   ],
   "source": [
    "inicio = '05-09-2000'\n",
    "fim = '05-09-2023'\n",
    "intervalo = df.loc[df(['data_base'] >= inicio) & (df['data_base'] <= fim)]\n",
    "intervalo"
   ]
  },
  {
   "cell_type": "code",
   "execution_count": null,
   "id": "a636c2e4-1805-4df7-aff7-9e52d49e78a4",
   "metadata": {},
   "outputs": [],
   "source": []
  },
  {
   "cell_type": "code",
   "execution_count": null,
   "id": "4ee533cb-68ce-4e9b-859f-0619939e14ac",
   "metadata": {},
   "outputs": [],
   "source": []
  },
  {
   "cell_type": "code",
   "execution_count": null,
   "id": "41cf72f2-4e57-4934-b16c-fcaac76153af",
   "metadata": {},
   "outputs": [],
   "source": []
  },
  {
   "cell_type": "code",
   "execution_count": null,
   "id": "be3f1c36-703c-46fb-bf42-cc10dbb756a6",
   "metadata": {},
   "outputs": [],
   "source": []
  },
  {
   "cell_type": "code",
   "execution_count": 57,
   "id": "6eb34592-92ba-4a7c-9d2a-2540fadb8365",
   "metadata": {},
   "outputs": [
    {
     "ename": "TypeError",
     "evalue": "unhashable type: 'list'",
     "output_type": "error",
     "traceback": [
      "\u001b[1;31m---------------------------------------------------------------------------\u001b[0m",
      "\u001b[1;31mTypeError\u001b[0m                                 Traceback (most recent call last)",
      "Cell \u001b[1;32mIn[57], line 1\u001b[0m\n\u001b[1;32m----> 1\u001b[0m df \u001b[38;5;241m=\u001b[39m pd\u001b[38;5;241m.\u001b[39mDataFrame({[\u001b[38;5;124m'\u001b[39m\u001b[38;5;124mdata_vencimento\u001b[39m\u001b[38;5;124m'\u001b[39m]})\n\u001b[0;32m      2\u001b[0m df[\u001b[38;5;124m'\u001b[39m\u001b[38;5;124mdata\u001b[39m\u001b[38;5;124m'\u001b[39m] \u001b[38;5;241m=\u001b[39m pd\u001b[38;5;241m.\u001b[39mto_datetime(df[\u001b[38;5;124m'\u001b[39m\u001b[38;5;124mdata\u001b[39m\u001b[38;5;124m'\u001b[39m])  \u001b[38;5;66;03m# Certifique-se de que a coluna 'data' seja do tipo datetime.\u001b[39;00m\n",
      "\u001b[1;31mTypeError\u001b[0m: unhashable type: 'list'"
     ]
    }
   ],
   "source": [
    "df = pd.DataFrame({['data_vencimento']})\n",
    "df['data'] = pd.to_datetime(df['data'])  # Certifique-se de que a coluna 'data' seja do tipo datetime.\n"
   ]
  },
  {
   "cell_type": "code",
   "execution_count": 69,
   "id": "26b9edd0-d269-4822-a51b-0f0c34da63ef",
   "metadata": {},
   "outputs": [
    {
     "ename": "KeyError",
     "evalue": "'data_vencimento'",
     "output_type": "error",
     "traceback": [
      "\u001b[1;31m---------------------------------------------------------------------------\u001b[0m",
      "\u001b[1;31mKeyError\u001b[0m                                  Traceback (most recent call last)",
      "File \u001b[1;32m~\\AppData\\Roaming\\jupyterlab-desktop\\jlab_server\\lib\\site-packages\\pandas\\core\\indexes\\base.py:3803\u001b[0m, in \u001b[0;36mIndex.get_loc\u001b[1;34m(self, key, method, tolerance)\u001b[0m\n\u001b[0;32m   3802\u001b[0m \u001b[38;5;28;01mtry\u001b[39;00m:\n\u001b[1;32m-> 3803\u001b[0m     \u001b[38;5;28;01mreturn\u001b[39;00m \u001b[38;5;28;43mself\u001b[39;49m\u001b[38;5;241;43m.\u001b[39;49m\u001b[43m_engine\u001b[49m\u001b[38;5;241;43m.\u001b[39;49m\u001b[43mget_loc\u001b[49m\u001b[43m(\u001b[49m\u001b[43mcasted_key\u001b[49m\u001b[43m)\u001b[49m\n\u001b[0;32m   3804\u001b[0m \u001b[38;5;28;01mexcept\u001b[39;00m \u001b[38;5;167;01mKeyError\u001b[39;00m \u001b[38;5;28;01mas\u001b[39;00m err:\n",
      "File \u001b[1;32m~\\AppData\\Roaming\\jupyterlab-desktop\\jlab_server\\lib\\site-packages\\pandas\\_libs\\index.pyx:138\u001b[0m, in \u001b[0;36mpandas._libs.index.IndexEngine.get_loc\u001b[1;34m()\u001b[0m\n",
      "File \u001b[1;32m~\\AppData\\Roaming\\jupyterlab-desktop\\jlab_server\\lib\\site-packages\\pandas\\_libs\\index.pyx:165\u001b[0m, in \u001b[0;36mpandas._libs.index.IndexEngine.get_loc\u001b[1;34m()\u001b[0m\n",
      "File \u001b[1;32mpandas\\_libs\\hashtable_class_helper.pxi:5745\u001b[0m, in \u001b[0;36mpandas._libs.hashtable.PyObjectHashTable.get_item\u001b[1;34m()\u001b[0m\n",
      "File \u001b[1;32mpandas\\_libs\\hashtable_class_helper.pxi:5753\u001b[0m, in \u001b[0;36mpandas._libs.hashtable.PyObjectHashTable.get_item\u001b[1;34m()\u001b[0m\n",
      "\u001b[1;31mKeyError\u001b[0m: 'data_vencimento'",
      "\nThe above exception was the direct cause of the following exception:\n",
      "\u001b[1;31mKeyError\u001b[0m                                  Traceback (most recent call last)",
      "Cell \u001b[1;32mIn[69], line 5\u001b[0m\n\u001b[0;32m      3\u001b[0m inicio \u001b[38;5;241m=\u001b[39m \u001b[38;5;124m'\u001b[39m\u001b[38;5;124m05-09-2000\u001b[39m\u001b[38;5;124m'\u001b[39m\n\u001b[0;32m      4\u001b[0m fim \u001b[38;5;241m=\u001b[39m \u001b[38;5;124m'\u001b[39m\u001b[38;5;124m05-09-2023\u001b[39m\u001b[38;5;124m'\u001b[39m\n\u001b[1;32m----> 5\u001b[0m intervalo \u001b[38;5;241m=\u001b[39m df\u001b[38;5;241m.\u001b[39mloc[(\u001b[43mdf\u001b[49m\u001b[43m[\u001b[49m\u001b[38;5;124;43m'\u001b[39;49m\u001b[38;5;124;43mdata_vencimento\u001b[39;49m\u001b[38;5;124;43m'\u001b[39;49m\u001b[43m]\u001b[49m \u001b[38;5;241m>\u001b[39m\u001b[38;5;241m=\u001b[39m inicio) \u001b[38;5;241m&\u001b[39m (df[\u001b[38;5;124m'\u001b[39m\u001b[38;5;124mdata_vencimento\u001b[39m\u001b[38;5;124m'\u001b[39m] \u001b[38;5;241m<\u001b[39m\u001b[38;5;241m=\u001b[39m fim)]\n\u001b[0;32m      6\u001b[0m intervalo\n",
      "File \u001b[1;32m~\\AppData\\Roaming\\jupyterlab-desktop\\jlab_server\\lib\\site-packages\\pandas\\core\\frame.py:3805\u001b[0m, in \u001b[0;36mDataFrame.__getitem__\u001b[1;34m(self, key)\u001b[0m\n\u001b[0;32m   3803\u001b[0m \u001b[38;5;28;01mif\u001b[39;00m \u001b[38;5;28mself\u001b[39m\u001b[38;5;241m.\u001b[39mcolumns\u001b[38;5;241m.\u001b[39mnlevels \u001b[38;5;241m>\u001b[39m \u001b[38;5;241m1\u001b[39m:\n\u001b[0;32m   3804\u001b[0m     \u001b[38;5;28;01mreturn\u001b[39;00m \u001b[38;5;28mself\u001b[39m\u001b[38;5;241m.\u001b[39m_getitem_multilevel(key)\n\u001b[1;32m-> 3805\u001b[0m indexer \u001b[38;5;241m=\u001b[39m \u001b[38;5;28;43mself\u001b[39;49m\u001b[38;5;241;43m.\u001b[39;49m\u001b[43mcolumns\u001b[49m\u001b[38;5;241;43m.\u001b[39;49m\u001b[43mget_loc\u001b[49m\u001b[43m(\u001b[49m\u001b[43mkey\u001b[49m\u001b[43m)\u001b[49m\n\u001b[0;32m   3806\u001b[0m \u001b[38;5;28;01mif\u001b[39;00m is_integer(indexer):\n\u001b[0;32m   3807\u001b[0m     indexer \u001b[38;5;241m=\u001b[39m [indexer]\n",
      "File \u001b[1;32m~\\AppData\\Roaming\\jupyterlab-desktop\\jlab_server\\lib\\site-packages\\pandas\\core\\indexes\\base.py:3805\u001b[0m, in \u001b[0;36mIndex.get_loc\u001b[1;34m(self, key, method, tolerance)\u001b[0m\n\u001b[0;32m   3803\u001b[0m     \u001b[38;5;28;01mreturn\u001b[39;00m \u001b[38;5;28mself\u001b[39m\u001b[38;5;241m.\u001b[39m_engine\u001b[38;5;241m.\u001b[39mget_loc(casted_key)\n\u001b[0;32m   3804\u001b[0m \u001b[38;5;28;01mexcept\u001b[39;00m \u001b[38;5;167;01mKeyError\u001b[39;00m \u001b[38;5;28;01mas\u001b[39;00m err:\n\u001b[1;32m-> 3805\u001b[0m     \u001b[38;5;28;01mraise\u001b[39;00m \u001b[38;5;167;01mKeyError\u001b[39;00m(key) \u001b[38;5;28;01mfrom\u001b[39;00m \u001b[38;5;21;01merr\u001b[39;00m\n\u001b[0;32m   3806\u001b[0m \u001b[38;5;28;01mexcept\u001b[39;00m \u001b[38;5;167;01mTypeError\u001b[39;00m:\n\u001b[0;32m   3807\u001b[0m     \u001b[38;5;66;03m# If we have a listlike key, _check_indexing_error will raise\u001b[39;00m\n\u001b[0;32m   3808\u001b[0m     \u001b[38;5;66;03m#  InvalidIndexError. Otherwise we fall through and re-raise\u001b[39;00m\n\u001b[0;32m   3809\u001b[0m     \u001b[38;5;66;03m#  the TypeError.\u001b[39;00m\n\u001b[0;32m   3810\u001b[0m     \u001b[38;5;28mself\u001b[39m\u001b[38;5;241m.\u001b[39m_check_indexing_error(key)\n",
      "\u001b[1;31mKeyError\u001b[0m: 'data_vencimento'"
     ]
    }
   ],
   "source": [
    "#data_vencimento = pd.df\n",
    "\n",
    "inicio = '05-09-2000'\n",
    "fim = '05-09-2023'\n",
    "intervalo = df.loc[(df['data_vencimento'] >= inicio) & (df['data_vencimento'] <= fim)]\n",
    "intervalo\n",
    "\n"
   ]
  },
  {
   "cell_type": "code",
   "execution_count": null,
   "id": "dc72237b-0f5a-49ad-8f48-31e60e22f68a",
   "metadata": {},
   "outputs": [
    {
     "data": {
      "text/plain": [
       "count    24183.0\n",
       "mean         1.0\n",
       "std          0.0\n",
       "min          1.0\n",
       "25%          1.0\n",
       "50%          1.0\n",
       "75%          1.0\n",
       "max          1.0\n",
       "dtype: float64"
      ]
     },
     "execution_count": 55,
     "metadata": {},
     "output_type": "execute_result"
    }
   ],
   "source": [
    "tp.describe()"
   ]
  },
  {
   "cell_type": "markdown",
   "id": "5b90b03a",
   "metadata": {},
   "source": [
    "# PAREI AQUI... dividir os quartis"
   ]
  },
  {
   "cell_type": "code",
   "execution_count": null,
   "id": "c18e1c77-d3ab-447e-bb15-d22b61272374",
   "metadata": {
    "tags": []
   },
   "outputs": [],
   "source": [
    "#tp.head()\n",
    "\n",
    "q1 = tp.quantile(.75)\n",
    "q1"
   ]
  },
  {
   "cell_type": "code",
   "execution_count": null,
   "id": "fcc0c3bf-f4eb-482b-94d9-c43b4ebf3e7f",
   "metadata": {},
   "outputs": [],
   "source": []
  },
  {
   "cell_type": "code",
   "execution_count": null,
   "id": "59c6b210-0a1a-4fbb-bd8c-c4e0ee4163cf",
   "metadata": {},
   "outputs": [],
   "source": []
  },
  {
   "cell_type": "code",
   "execution_count": null,
   "id": "25f0730f-6168-4458-8cfe-4d1133b146f6",
   "metadata": {},
   "outputs": [],
   "source": [
    "Q1 = np.percentile(tp['Tesouro Educa+'],[25,50,75])\n",
    "Q1\n",
    "#print('Q2 =',np.quantile('Tesouro Educa+', .50))\n",
    "#print('Q3 =',np.quantile('Tesouro Educa+', .75))\n",
    "#print('Q4 =',np.quantile('Tesouro Educa+', .100))"
   ]
  },
  {
   "cell_type": "code",
   "execution_count": null,
   "id": "b26566de-af2c-48ac-b218-b9f827657bdf",
   "metadata": {},
   "outputs": [],
   "source": []
  },
  {
   "cell_type": "code",
   "execution_count": null,
   "id": "9fd18b97-f0c5-4886-8842-511ef672df8f",
   "metadata": {},
   "outputs": [],
   "source": []
  },
  {
   "cell_type": "code",
   "execution_count": null,
   "id": "4d78ac7b-5a74-4a4a-87d2-1e1d7532d4f1",
   "metadata": {},
   "outputs": [],
   "source": []
  },
  {
   "cell_type": "code",
   "execution_count": null,
   "id": "089bd8d5-8ab2-40b4-b5f3-d5195256015e",
   "metadata": {},
   "outputs": [],
   "source": []
  },
  {
   "cell_type": "code",
   "execution_count": null,
   "id": "c7294aee-e0b4-493f-8e54-62b6d0ec6ee2",
   "metadata": {},
   "outputs": [],
   "source": []
  },
  {
   "cell_type": "code",
   "execution_count": null,
   "id": "38a8da5f-77fe-475c-bf78-6c2387ab280e",
   "metadata": {},
   "outputs": [],
   "source": []
  },
  {
   "cell_type": "code",
   "execution_count": null,
   "id": "f3d45f90-435f-410b-a07c-b777a938e0da",
   "metadata": {},
   "outputs": [],
   "source": []
  },
  {
   "cell_type": "code",
   "execution_count": null,
   "id": "c43cf4c7-b7cd-4f35-b291-8ee8305d5a61",
   "metadata": {},
   "outputs": [],
   "source": []
  },
  {
   "cell_type": "code",
   "execution_count": null,
   "id": "84f4e3b1-8613-47d4-80e6-0954051375fa",
   "metadata": {},
   "outputs": [],
   "source": []
  },
  {
   "cell_type": "code",
   "execution_count": null,
   "id": "90b70e21",
   "metadata": {},
   "outputs": [],
   "source": [
    "df.head()\n",
    "\n",
    "\n",
    "\n",
    "#x=df.loc[df['Tesouro Selic',:]]\n",
    "#x\n",
    "\n",
    "#sb.distplot(df{['Tesouro Selic',:])\n"
   ]
  },
  {
   "cell_type": "code",
   "execution_count": null,
   "id": "3f9a862a",
   "metadata": {},
   "outputs": [],
   "source": [
    "sb.histplot(df['Tipo Titulo'])\n",
    "\n",
    "#ajusta o layout para não haver sobreposição\n",
    "plt.tight_layout()"
   ]
  },
  {
   "cell_type": "code",
   "execution_count": null,
   "id": "046e7664",
   "metadata": {},
   "outputs": [],
   "source": [
    "x=iloc.[Tipo Titulo['Tesouro Selic']]\n",
    "x"
   ]
  },
  {
   "cell_type": "code",
   "execution_count": null,
   "id": "c877ec88",
   "metadata": {},
   "outputs": [],
   "source": []
  },
  {
   "cell_type": "code",
   "execution_count": null,
   "id": "8e863ff1",
   "metadata": {},
   "outputs": [],
   "source": []
  },
  {
   "cell_type": "code",
   "execution_count": null,
   "id": "c0bf3cec",
   "metadata": {},
   "outputs": [],
   "source": []
  },
  {
   "cell_type": "code",
   "execution_count": null,
   "id": "c59c1a2c",
   "metadata": {},
   "outputs": [],
   "source": []
  },
  {
   "cell_type": "code",
   "execution_count": null,
   "id": "44ff3f53",
   "metadata": {},
   "outputs": [],
   "source": []
  }
 ],
 "metadata": {
  "kernelspec": {
   "display_name": "Python 3 (ipykernel)",
   "language": "python",
   "name": "python3"
  },
  "language_info": {
   "codemirror_mode": {
    "name": "ipython",
    "version": 3
   },
   "file_extension": ".py",
   "mimetype": "text/x-python",
   "name": "python",
   "nbconvert_exporter": "python",
   "pygments_lexer": "ipython3",
   "version": "3.8.15"
  }
 },
 "nbformat": 4,
 "nbformat_minor": 5
}
