{
 "cells": [
  {
   "cell_type": "markdown",
   "id": "72a6acc9",
   "metadata": {},
   "source": [
    "# Bibliotecas"
   ]
  },
  {
   "cell_type": "code",
   "execution_count": 25,
   "id": "eb4b5ab2",
   "metadata": {
    "tags": []
   },
   "outputs": [
    {
     "ename": "ImportError",
     "evalue": "Unable to import required dependencies:\nnumpy: \n\nIMPORTANT: PLEASE READ THIS FOR ADVICE ON HOW TO SOLVE THIS ISSUE!\n\nImporting the numpy C-extensions failed. This error can happen for\nmany reasons, often due to issues with your setup or how NumPy was\ninstalled.\n\nWe have compiled some common reasons and troubleshooting tips at:\n\n    https://numpy.org/devdocs/user/troubleshooting-importerror.html\n\nPlease note and check the following:\n\n  * The Python version is: Python3.11 from \"/bin/python3.11\"\n  * The NumPy version is: \"1.21.5\"\n\nand make sure that they are the versions you expect.\nPlease carefully study the documentation linked above for further help.\n\nOriginal error was: No module named 'numpy.core._multiarray_umath'\n",
     "output_type": "error",
     "traceback": [
      "\u001b[0;31m---------------------------------------------------------------------------\u001b[0m",
      "\u001b[0;31mImportError\u001b[0m                               Traceback (most recent call last)",
      "\u001b[1;32m/home/tiago/Documentos/GitHub/tesouro_direto/TesouroDireto_V2.ipynb Célula 2\u001b[0m line \u001b[0;36m1\n\u001b[0;32m----> <a href='vscode-notebook-cell:/home/tiago/Documentos/GitHub/tesouro_direto/TesouroDireto_V2.ipynb#W1sZmlsZQ%3D%3D?line=0'>1</a>\u001b[0m \u001b[39mimport\u001b[39;00m \u001b[39mpandas\u001b[39;00m \u001b[39mas\u001b[39;00m \u001b[39mpd\u001b[39;00m\n\u001b[1;32m      <a href='vscode-notebook-cell:/home/tiago/Documentos/GitHub/tesouro_direto/TesouroDireto_V2.ipynb#W1sZmlsZQ%3D%3D?line=1'>2</a>\u001b[0m \u001b[39mimport\u001b[39;00m \u001b[39mnumpy\u001b[39;00m \u001b[39mas\u001b[39;00m \u001b[39mnp\u001b[39;00m\n\u001b[1;32m      <a href='vscode-notebook-cell:/home/tiago/Documentos/GitHub/tesouro_direto/TesouroDireto_V2.ipynb#W1sZmlsZQ%3D%3D?line=2'>3</a>\u001b[0m get_ipython()\u001b[39m.\u001b[39mrun_line_magic(\u001b[39m'\u001b[39m\u001b[39mpip\u001b[39m\u001b[39m'\u001b[39m, \u001b[39m'\u001b[39m\u001b[39minstall seaborn\u001b[39m\u001b[39m'\u001b[39m)\n",
      "File \u001b[0;32m/usr/lib/python3/dist-packages/pandas/__init__.py:22\u001b[0m\n\u001b[1;32m     19\u001b[0m         missing_dependencies\u001b[39m.\u001b[39mappend(\u001b[39mf\u001b[39m\u001b[39m\"\u001b[39m\u001b[39m{\u001b[39;00mdependency\u001b[39m}\u001b[39;00m\u001b[39m: \u001b[39m\u001b[39m{\u001b[39;00me\u001b[39m}\u001b[39;00m\u001b[39m\"\u001b[39m)\n\u001b[1;32m     21\u001b[0m \u001b[39mif\u001b[39;00m missing_dependencies:\n\u001b[0;32m---> 22\u001b[0m     \u001b[39mraise\u001b[39;00m \u001b[39mImportError\u001b[39;00m(\n\u001b[1;32m     23\u001b[0m         \u001b[39m\"\u001b[39m\u001b[39mUnable to import required dependencies:\u001b[39m\u001b[39m\\n\u001b[39;00m\u001b[39m\"\u001b[39m \u001b[39m+\u001b[39m \u001b[39m\"\u001b[39m\u001b[39m\\n\u001b[39;00m\u001b[39m\"\u001b[39m\u001b[39m.\u001b[39mjoin(missing_dependencies)\n\u001b[1;32m     24\u001b[0m     )\n\u001b[1;32m     25\u001b[0m \u001b[39mdel\u001b[39;00m hard_dependencies, dependency, missing_dependencies\n\u001b[1;32m     27\u001b[0m \u001b[39m# numpy compat\u001b[39;00m\n",
      "\u001b[0;31mImportError\u001b[0m: Unable to import required dependencies:\nnumpy: \n\nIMPORTANT: PLEASE READ THIS FOR ADVICE ON HOW TO SOLVE THIS ISSUE!\n\nImporting the numpy C-extensions failed. This error can happen for\nmany reasons, often due to issues with your setup or how NumPy was\ninstalled.\n\nWe have compiled some common reasons and troubleshooting tips at:\n\n    https://numpy.org/devdocs/user/troubleshooting-importerror.html\n\nPlease note and check the following:\n\n  * The Python version is: Python3.11 from \"/bin/python3.11\"\n  * The NumPy version is: \"1.21.5\"\n\nand make sure that they are the versions you expect.\nPlease carefully study the documentation linked above for further help.\n\nOriginal error was: No module named 'numpy.core._multiarray_umath'\n"
     ]
    }
   ],
   "source": [
    "import pandas as pd\n",
    "import numpy as np\n",
    "%pip install seaborn\n",
    "import seaborn as sb\n",
    "%pip install matplotlib\n",
    "import matplotlib.pyplot as plot"
   ]
  },
  {
   "cell_type": "markdown",
   "id": "1c188da3",
   "metadata": {},
   "source": [
    "# API -Tesouro Transparente"
   ]
  },
  {
   "cell_type": "code",
   "execution_count": null,
   "id": "b781d9de",
   "metadata": {},
   "outputs": [],
   "source": [
    "url = 'https://www.tesourotransparente.gov.br/ckan/dataset/df56aa42-484a-4a59-8184-7676580c81e3/resource/796d2059-14e9-44e3-80c9-2d9e30b405c1/download/PrecoTaxaTesouroDireto.csv'"
   ]
  },
  {
   "cell_type": "markdown",
   "id": "afdc2e95",
   "metadata": {},
   "source": [
    "# Organizando o Dataframe "
   ]
  },
  {
   "cell_type": "code",
   "execution_count": null,
   "id": "1459c303",
   "metadata": {},
   "outputs": [
    {
     "ename": "NameError",
     "evalue": "name 'pd' is not defined",
     "output_type": "error",
     "traceback": [
      "\u001b[0;31m---------------------------------------------------------------------------\u001b[0m",
      "\u001b[0;31mNameError\u001b[0m                                 Traceback (most recent call last)",
      "\u001b[1;32m/home/tiago/Documentos/GitHub/tesouro_direto/TesouroDireto_V2.ipynb Célula 6\u001b[0m line \u001b[0;36m1\n\u001b[0;32m----> <a href='vscode-notebook-cell:/home/tiago/Documentos/GitHub/tesouro_direto/TesouroDireto_V2.ipynb#W5sZmlsZQ%3D%3D?line=0'>1</a>\u001b[0m df \u001b[39m=\u001b[39m pd\u001b[39m.\u001b[39mread_csv(url, sep \u001b[39m=\u001b[39m\u001b[39m'\u001b[39m\u001b[39m;\u001b[39m\u001b[39m'\u001b[39m)\n\u001b[1;32m      <a href='vscode-notebook-cell:/home/tiago/Documentos/GitHub/tesouro_direto/TesouroDireto_V2.ipynb#W5sZmlsZQ%3D%3D?line=1'>2</a>\u001b[0m df\u001b[39m.\u001b[39mtail()\n",
      "\u001b[0;31mNameError\u001b[0m: name 'pd' is not defined"
     ]
    }
   ],
   "source": [
    "df = pd.read_csv(url, sep =';')\n",
    "df.tail()"
   ]
  },
  {
   "cell_type": "markdown",
   "id": "6bcdfde0",
   "metadata": {},
   "source": [
    "# Organizando as datas"
   ]
  },
  {
   "cell_type": "code",
   "execution_count": null,
   "id": "4e5f5ab0",
   "metadata": {},
   "outputs": [],
   "source": [
    "df['Data Base'] = pd.to_datetime(df['Data Base'], dayfirts = True)\n",
    "df['Data Vencimento'] = pd.to_datetime(df['Data Vencimento'], dayfirts = True)"
   ]
  },
  {
   "cell_type": "markdown",
   "id": "8260d67e",
   "metadata": {},
   "source": [
    "# Análise Exploratória do Dataframe"
   ]
  },
  {
   "cell_type": "code",
   "execution_count": null,
   "id": "d194761a",
   "metadata": {},
   "outputs": [
    {
     "data": {
      "text/plain": [
       "(134120, 8)"
      ]
     },
     "execution_count": 37,
     "metadata": {},
     "output_type": "execute_result"
    }
   ],
   "source": [
    "#Tamanho do corpo(linhas e colunas)\n",
    "df.shape"
   ]
  },
  {
   "cell_type": "code",
   "execution_count": null,
   "id": "27b82367",
   "metadata": {},
   "outputs": [
    {
     "data": {
      "text/plain": [
       "Tipo Titulo          0\n",
       "Data Vencimento      0\n",
       "Data Base            0\n",
       "Taxa Compra Manha    0\n",
       "Taxa Venda Manha     0\n",
       "PU Compra Manha      0\n",
       "PU Venda Manha       0\n",
       "PU Base Manha        0\n",
       "dtype: int64"
      ]
     },
     "execution_count": 38,
     "metadata": {},
     "output_type": "execute_result"
    }
   ],
   "source": [
    "#Verificando valores faltantes\n",
    "df.isnull().sum()"
   ]
  },
  {
   "cell_type": "code",
   "execution_count": null,
   "id": "d3926e60",
   "metadata": {},
   "outputs": [
    {
     "data": {
      "text/plain": [
       "array(['Tesouro IPCA+ com Juros Semestrais', 'Tesouro IPCA+',\n",
       "       'Tesouro IGPM+ com Juros Semestrais',\n",
       "       'Tesouro Prefixado com Juros Semestrais', 'Tesouro Selic',\n",
       "       'Tesouro Prefixado', 'Tesouro Renda+ Aposentadoria Extra',\n",
       "       'Tesouro Educa+'], dtype=object)"
      ]
     },
     "execution_count": 58,
     "metadata": {},
     "output_type": "execute_result"
    }
   ],
   "source": [
    "# 1° Verificando Títulos únicos\n",
    "titulo = df['Tipo Titulo'].unique()\n",
    "titulo"
   ]
  },
  {
   "cell_type": "code",
   "execution_count": null,
   "id": "5a670956",
   "metadata": {},
   "outputs": [
    {
     "data": {
      "text/plain": [
       "array(['29/07/2009', '28/07/2009', '27/07/2009', ..., '28/02/2005',\n",
       "       '25/02/2005', '24/02/2005'], dtype=object)"
      ]
     },
     "execution_count": 65,
     "metadata": {},
     "output_type": "execute_result"
    }
   ],
   "source": [
    "# 2° Verificando Data base únicos\n",
    "data_base = df['Data Base'].unique()\n",
    "data_base"
   ]
  },
  {
   "cell_type": "code",
   "execution_count": null,
   "id": "7a75eb1c-e534-4640-845b-0a7b5e313359",
   "metadata": {},
   "outputs": [
    {
     "data": {
      "text/html": [
       "<div>\n",
       "<style scoped>\n",
       "    .dataframe tbody tr th:only-of-type {\n",
       "        vertical-align: middle;\n",
       "    }\n",
       "\n",
       "    .dataframe tbody tr th {\n",
       "        vertical-align: top;\n",
       "    }\n",
       "\n",
       "    .dataframe thead th {\n",
       "        text-align: right;\n",
       "    }\n",
       "</style>\n",
       "<table border=\"1\" class=\"dataframe\">\n",
       "  <thead>\n",
       "    <tr style=\"text-align: right;\">\n",
       "      <th></th>\n",
       "      <th>Tipo Titulo</th>\n",
       "      <th>Data Vencimento</th>\n",
       "      <th>Data Base</th>\n",
       "      <th>Taxa Compra Manha</th>\n",
       "      <th>Taxa Venda Manha</th>\n",
       "      <th>PU Compra Manha</th>\n",
       "      <th>PU Venda Manha</th>\n",
       "      <th>PU Base Manha</th>\n",
       "    </tr>\n",
       "  </thead>\n",
       "  <tbody>\n",
       "    <tr>\n",
       "      <th>0</th>\n",
       "      <td>Tesouro IPCA+ com Juros Semestrais</td>\n",
       "      <td>15/08/2020</td>\n",
       "      <td>29/07/2009</td>\n",
       "      <td>6,49</td>\n",
       "      <td>6,57</td>\n",
       "      <td>1823,60</td>\n",
       "      <td>1812,73</td>\n",
       "      <td>1812,11</td>\n",
       "    </tr>\n",
       "    <tr>\n",
       "      <th>1</th>\n",
       "      <td>Tesouro IPCA+ com Juros Semestrais</td>\n",
       "      <td>15/05/2017</td>\n",
       "      <td>29/07/2009</td>\n",
       "      <td>6,57</td>\n",
       "      <td>6,63</td>\n",
       "      <td>1803,29</td>\n",
       "      <td>1796,98</td>\n",
       "      <td>1796,36</td>\n",
       "    </tr>\n",
       "    <tr>\n",
       "      <th>2</th>\n",
       "      <td>Tesouro IPCA+ com Juros Semestrais</td>\n",
       "      <td>15/05/2015</td>\n",
       "      <td>29/07/2009</td>\n",
       "      <td>6,58</td>\n",
       "      <td>6,64</td>\n",
       "      <td>1814,60</td>\n",
       "      <td>1809,60</td>\n",
       "      <td>1808,98</td>\n",
       "    </tr>\n",
       "    <tr>\n",
       "      <th>3</th>\n",
       "      <td>Tesouro IPCA+ com Juros Semestrais</td>\n",
       "      <td>15/05/2011</td>\n",
       "      <td>29/07/2009</td>\n",
       "      <td>5,58</td>\n",
       "      <td>5,60</td>\n",
       "      <td>1876,22</td>\n",
       "      <td>1875,62</td>\n",
       "      <td>1875,05</td>\n",
       "    </tr>\n",
       "    <tr>\n",
       "      <th>4</th>\n",
       "      <td>Tesouro IPCA+ com Juros Semestrais</td>\n",
       "      <td>15/08/2012</td>\n",
       "      <td>29/07/2009</td>\n",
       "      <td>6,30</td>\n",
       "      <td>6,34</td>\n",
       "      <td>1875,46</td>\n",
       "      <td>1873,52</td>\n",
       "      <td>1872,89</td>\n",
       "    </tr>\n",
       "  </tbody>\n",
       "</table>\n",
       "</div>"
      ],
      "text/plain": [
       "                          Tipo Titulo Data Vencimento   Data Base  \\\n",
       "0  Tesouro IPCA+ com Juros Semestrais      15/08/2020  29/07/2009   \n",
       "1  Tesouro IPCA+ com Juros Semestrais      15/05/2017  29/07/2009   \n",
       "2  Tesouro IPCA+ com Juros Semestrais      15/05/2015  29/07/2009   \n",
       "3  Tesouro IPCA+ com Juros Semestrais      15/05/2011  29/07/2009   \n",
       "4  Tesouro IPCA+ com Juros Semestrais      15/08/2012  29/07/2009   \n",
       "\n",
       "  Taxa Compra Manha Taxa Venda Manha PU Compra Manha PU Venda Manha  \\\n",
       "0              6,49             6,57         1823,60        1812,73   \n",
       "1              6,57             6,63         1803,29        1796,98   \n",
       "2              6,58             6,64         1814,60        1809,60   \n",
       "3              5,58             5,60         1876,22        1875,62   \n",
       "4              6,30             6,34         1875,46        1873,52   \n",
       "\n",
       "  PU Base Manha  \n",
       "0       1812,11  \n",
       "1       1796,36  \n",
       "2       1808,98  \n",
       "3       1875,05  \n",
       "4       1872,89  "
      ]
     },
     "execution_count": 44,
     "metadata": {},
     "output_type": "execute_result"
    }
   ],
   "source": [
    "df.head()"
   ]
  },
  {
   "cell_type": "code",
   "execution_count": null,
   "id": "6ace2658-bbba-432b-9c70-c15d0f0fa71d",
   "metadata": {
    "tags": []
   },
   "outputs": [
    {
     "data": {
      "text/plain": [
       "array(['15/08/2020', '15/05/2017', '15/05/2015', '15/05/2011',\n",
       "       '15/08/2012', '15/05/2013', '15/08/2010', '15/08/2024',\n",
       "       '01/04/2021', '01/03/2011', '01/07/2017', '01/01/2031',\n",
       "       '01/01/2013', '01/01/2017', '01/01/2014', '01/01/2012',\n",
       "       '01/01/2010', '01/07/2010', '01/01/2011', '17/03/2010',\n",
       "       '16/03/2011', '07/03/2012', '07/03/2013', '07/03/2014',\n",
       "       '01/10/2009', '15/05/2035', '15/05/2045', '01/07/2008',\n",
       "       '15/05/2009', '15/08/2008', '01/04/2008', '18/03/2009',\n",
       "       '18/06/2008', '08/03/2013', '01/10/2008', '01/01/2009',\n",
       "       '01/07/2009', '01/04/2009', '01/01/2008', '01/10/2007',\n",
       "       '01/07/2007', '15/05/2007', '07/03/2015', '01/01/2021',\n",
       "       '01/07/2011', '01/12/2006', '17/01/2007', '01/10/2006',\n",
       "       '01/04/2007', '01/01/2007', '15/08/2006', '01/07/2006',\n",
       "       '18/01/2006', '01/01/2006', '01/04/2006', '01/12/2005',\n",
       "       '01/10/2005', '15/05/2055', '15/08/2032', '15/08/2026',\n",
       "       '15/08/2040', '15/08/2030', '15/05/2029', '01/01/2033',\n",
       "       '01/01/2027', '01/01/2025', '01/01/2029', '15/12/2054',\n",
       "       '15/12/2074', '15/12/2084', '15/12/2079', '15/12/2064',\n",
       "       '15/12/2059', '15/12/2049', '15/12/2069', '15/12/2031',\n",
       "       '15/12/2030', '15/12/2043', '15/12/2042', '15/12/2039',\n",
       "       '15/12/2034', '15/12/2035', '15/12/2041', '15/12/2032',\n",
       "       '15/12/2033', '15/12/2045', '15/12/2040', '15/12/2037',\n",
       "       '15/12/2038', '15/12/2036', '15/12/2044', '01/09/2024',\n",
       "       '01/03/2027', '01/03/2029', '01/03/2025', '01/03/2026',\n",
       "       '01/07/2024', '01/01/2026', '15/08/2050', '01/01/2023',\n",
       "       '01/03/2023', '01/01/2022', '01/03/2021', '01/01/2020',\n",
       "       '15/05/2019', '01/01/2019', '01/01/2018', '07/03/2017',\n",
       "       '01/01/2016', '01/01/2015', '01/07/2005', '01/04/2005',\n",
       "       '16/02/2005', '04/01/2005'], dtype=object)"
      ]
     },
     "execution_count": 46,
     "metadata": {},
     "output_type": "execute_result"
    }
   ],
   "source": [
    "# 3° Verificando Vencimentos únicos\n",
    "data_vencimento=df['Data Vencimento'].unique()\n",
    "data_vencimento"
   ]
  },
  {
   "cell_type": "code",
   "execution_count": null,
   "id": "3cba388d",
   "metadata": {
    "scrolled": true
   },
   "outputs": [
    {
     "data": {
      "text/plain": [
       "Tipo Titulo     Data Vencimento  Data Base   Taxa Compra Manha\n",
       "Tesouro Educa+  15/12/2030       01/08/2023  5,06                 1\n",
       "                                 01/09/2023  5,23                 1\n",
       "                                 02/08/2023  5,05                 1\n",
       "                                 03/08/2023  5,02                 1\n",
       "                                 04/08/2023  5,02                 1\n",
       "                                                                 ..\n",
       "Tesouro Selic   18/06/2008       31/10/2005  0,23                 1\n",
       "                                 31/10/2006  -0,01                1\n",
       "                                 31/10/2007  -0,02                1\n",
       "                                 31/12/2004  0,33                 1\n",
       "                                 31/12/2007  -0,02                1\n",
       "Length: 134120, dtype: int64"
      ]
     },
     "execution_count": 42,
     "metadata": {},
     "output_type": "execute_result"
    }
   ],
   "source": [
    "agrupar_titulo = df.groupby(['Tipo Titulo','Data Vencimento','Data Base','Taxa Compra Manha']).size()\n",
    "agrupar_titulo"
   ]
  },
  {
   "cell_type": "markdown",
   "id": "98cee249-77bc-4eba-99a2-bdc8d0672ec3",
   "metadata": {},
   "source": [
    "## Criar intersecção de datas...parei aqui"
   ]
  },
  {
   "cell_type": "code",
   "execution_count": null,
   "id": "60ec0830-9b76-4a8c-a09b-c7defcf444b6",
   "metadata": {},
   "outputs": [
    {
     "ename": "NameError",
     "evalue": "name 'agrupar_titulo' is not defined",
     "output_type": "error",
     "traceback": [
      "\u001b[0;31m---------------------------------------------------------------------------\u001b[0m",
      "\u001b[0;31mNameError\u001b[0m                                 Traceback (most recent call last)",
      "\u001b[1;32m/home/tiago/Documentos/GitHub/tesouro_direto/TesouroDireto_V2.ipynb Célula 18\u001b[0m line \u001b[0;36m3\n\u001b[1;32m      <a href='vscode-notebook-cell:/home/tiago/Documentos/GitHub/tesouro_direto/TesouroDireto_V2.ipynb#X20sZmlsZQ%3D%3D?line=0'>1</a>\u001b[0m \u001b[39m#Selecionar título público\u001b[39;00m\n\u001b[1;32m      <a href='vscode-notebook-cell:/home/tiago/Documentos/GitHub/tesouro_direto/TesouroDireto_V2.ipynb#X20sZmlsZQ%3D%3D?line=1'>2</a>\u001b[0m titulo \u001b[39m=\u001b[39m [\u001b[39m'\u001b[39m\u001b[39mTesouro Prefixado\u001b[39m\u001b[39m'\u001b[39m]\n\u001b[0;32m----> <a href='vscode-notebook-cell:/home/tiago/Documentos/GitHub/tesouro_direto/TesouroDireto_V2.ipynb#X20sZmlsZQ%3D%3D?line=2'>3</a>\u001b[0m tp \u001b[39m=\u001b[39magrupar_titulo[titulo]\n\u001b[1;32m      <a href='vscode-notebook-cell:/home/tiago/Documentos/GitHub/tesouro_direto/TesouroDireto_V2.ipynb#X20sZmlsZQ%3D%3D?line=3'>4</a>\u001b[0m tp\n",
      "\u001b[0;31mNameError\u001b[0m: name 'agrupar_titulo' is not defined"
     ]
    }
   ],
   "source": [
    "#Selecionar título público\n",
    "titulo = ['Tesouro Prefixado']\n",
    "tp =agrupar_titulo[titulo]\n",
    "tp"
   ]
  },
  {
   "cell_type": "code",
   "execution_count": null,
   "id": "be3f1c36-703c-46fb-bf42-cc10dbb756a6",
   "metadata": {},
   "outputs": [],
   "source": [
    "tp.plot()"
   ]
  },
  {
   "cell_type": "markdown",
   "id": "5b90b03a",
   "metadata": {},
   "source": [
    "# PAREI AQUI... dividir os quartis"
   ]
  },
  {
   "cell_type": "code",
   "execution_count": null,
   "id": "c18e1c77-d3ab-447e-bb15-d22b61272374",
   "metadata": {
    "tags": []
   },
   "outputs": [
    {
     "ename": "NameError",
     "evalue": "name 'tp' is not defined",
     "output_type": "error",
     "traceback": [
      "\u001b[0;31m---------------------------------------------------------------------------\u001b[0m",
      "\u001b[0;31mNameError\u001b[0m                                 Traceback (most recent call last)",
      "\u001b[1;32m/home/tiago/Documentos/GitHub/tesouro_direto/TesouroDireto_V2.ipynb Célula 21\u001b[0m line \u001b[0;36m1\n\u001b[0;32m----> <a href='vscode-notebook-cell:/home/tiago/Documentos/GitHub/tesouro_direto/TesouroDireto_V2.ipynb#X35sZmlsZQ%3D%3D?line=0'>1</a>\u001b[0m tp\u001b[39m.\u001b[39mhead()\n\u001b[1;32m      <a href='vscode-notebook-cell:/home/tiago/Documentos/GitHub/tesouro_direto/TesouroDireto_V2.ipynb#X35sZmlsZQ%3D%3D?line=2'>3</a>\u001b[0m \u001b[39m#q1 = tp.quantile(.75)\u001b[39;00m\n\u001b[1;32m      <a href='vscode-notebook-cell:/home/tiago/Documentos/GitHub/tesouro_direto/TesouroDireto_V2.ipynb#X35sZmlsZQ%3D%3D?line=3'>4</a>\u001b[0m \u001b[39m#q1\u001b[39;00m\n",
      "\u001b[0;31mNameError\u001b[0m: name 'tp' is not defined"
     ]
    }
   ],
   "source": [
    "tp.head()\n",
    "\n",
    "#q1 = tp.quantile(.75)\n",
    "#q1"
   ]
  },
  {
   "cell_type": "code",
   "execution_count": null,
   "id": "fcc0c3bf-f4eb-482b-94d9-c43b4ebf3e7f",
   "metadata": {},
   "outputs": [],
   "source": []
  },
  {
   "cell_type": "code",
   "execution_count": null,
   "id": "59c6b210-0a1a-4fbb-bd8c-c4e0ee4163cf",
   "metadata": {},
   "outputs": [],
   "source": []
  },
  {
   "cell_type": "code",
   "execution_count": null,
   "id": "25f0730f-6168-4458-8cfe-4d1133b146f6",
   "metadata": {},
   "outputs": [],
   "source": [
    "Q1 = np.percentile(tp['Tesouro Educa+'],[25,50,75])\n",
    "Q1\n",
    "#print('Q2 =',np.quantile('Tesouro Educa+', .50))\n",
    "#print('Q3 =',np.quantile('Tesouro Educa+', .75))\n",
    "#print('Q4 =',np.quantile('Tesouro Educa+', .100))"
   ]
  },
  {
   "cell_type": "code",
   "execution_count": null,
   "id": "b26566de-af2c-48ac-b218-b9f827657bdf",
   "metadata": {},
   "outputs": [],
   "source": []
  },
  {
   "cell_type": "code",
   "execution_count": null,
   "id": "9fd18b97-f0c5-4886-8842-511ef672df8f",
   "metadata": {},
   "outputs": [],
   "source": []
  },
  {
   "cell_type": "code",
   "execution_count": null,
   "id": "4d78ac7b-5a74-4a4a-87d2-1e1d7532d4f1",
   "metadata": {},
   "outputs": [],
   "source": []
  },
  {
   "cell_type": "code",
   "execution_count": null,
   "id": "089bd8d5-8ab2-40b4-b5f3-d5195256015e",
   "metadata": {},
   "outputs": [],
   "source": []
  },
  {
   "cell_type": "code",
   "execution_count": null,
   "id": "c7294aee-e0b4-493f-8e54-62b6d0ec6ee2",
   "metadata": {},
   "outputs": [],
   "source": []
  },
  {
   "cell_type": "code",
   "execution_count": null,
   "id": "38a8da5f-77fe-475c-bf78-6c2387ab280e",
   "metadata": {},
   "outputs": [],
   "source": []
  },
  {
   "cell_type": "code",
   "execution_count": null,
   "id": "f3d45f90-435f-410b-a07c-b777a938e0da",
   "metadata": {},
   "outputs": [],
   "source": []
  },
  {
   "cell_type": "code",
   "execution_count": null,
   "id": "c43cf4c7-b7cd-4f35-b291-8ee8305d5a61",
   "metadata": {},
   "outputs": [],
   "source": []
  },
  {
   "cell_type": "code",
   "execution_count": null,
   "id": "84f4e3b1-8613-47d4-80e6-0954051375fa",
   "metadata": {},
   "outputs": [],
   "source": []
  },
  {
   "cell_type": "code",
   "execution_count": null,
   "id": "90b70e21",
   "metadata": {},
   "outputs": [],
   "source": [
    "df.head()\n",
    "\n",
    "\n",
    "\n",
    "#x=df.loc[df['Tesouro Selic',:]]\n",
    "#x\n",
    "\n",
    "#sb.distplot(df{['Tesouro Selic',:])\n"
   ]
  },
  {
   "cell_type": "code",
   "execution_count": null,
   "id": "3f9a862a",
   "metadata": {},
   "outputs": [],
   "source": [
    "#sb.histplot(df['Tipo Titulo'])\n",
    "\n",
    "#ajusta o layout para não haver sobreposição\n",
    "#plt.tight_layout()"
   ]
  },
  {
   "cell_type": "code",
   "execution_count": null,
   "id": "046e7664",
   "metadata": {},
   "outputs": [],
   "source": [
    "#x=iloc.[Tipo Titulo['Tesouro Selic']]\n",
    "#x"
   ]
  },
  {
   "cell_type": "code",
   "execution_count": null,
   "id": "c877ec88",
   "metadata": {},
   "outputs": [],
   "source": []
  },
  {
   "cell_type": "code",
   "execution_count": null,
   "id": "8e863ff1",
   "metadata": {},
   "outputs": [],
   "source": []
  },
  {
   "cell_type": "code",
   "execution_count": null,
   "id": "c0bf3cec",
   "metadata": {},
   "outputs": [],
   "source": []
  },
  {
   "cell_type": "code",
   "execution_count": null,
   "id": "c59c1a2c",
   "metadata": {},
   "outputs": [],
   "source": []
  },
  {
   "cell_type": "code",
   "execution_count": null,
   "id": "44ff3f53",
   "metadata": {},
   "outputs": [],
   "source": []
  }
 ],
 "metadata": {
  "kernelspec": {
   "display_name": "Python 3 (ipykernel)",
   "language": "python",
   "name": "python3"
  },
  "language_info": {
   "codemirror_mode": {
    "name": "ipython",
    "version": 3
   },
   "file_extension": ".py",
   "mimetype": "text/x-python",
   "name": "python",
   "nbconvert_exporter": "python",
   "pygments_lexer": "ipython3",
   "version": "3.11.0rc1"
  }
 },
 "nbformat": 4,
 "nbformat_minor": 5
}
